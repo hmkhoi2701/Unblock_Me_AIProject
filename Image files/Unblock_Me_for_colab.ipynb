{
  "cells": [
    {
      "cell_type": "markdown",
      "metadata": {
        "id": "zUmPhRfXK2OI"
      },
      "source": [
        "#Map_and_Block library"
      ]
    },
    {
      "cell_type": "code",
      "execution_count": null,
      "metadata": {
        "id": "YCluVnAaLVOO"
      },
      "outputs": [],
      "source": [
        "import numpy as np\n",
        "import copy"
      ]
    },
    {
      "cell_type": "markdown",
      "metadata": {
        "id": "QXFyIYpkVZJT"
      },
      "source": [
        "We declare `Block` class, whose objects are blocks of the game.<br>\n",
        "A block is defined by its *coordinate*, *direction* (either **vertical** or **horizontal**), *length* (either **2** or **3**).<br>\n",
        "Also, a function `move` is defined to help the block move in the map\n"
      ]
    },
    {
      "cell_type": "code",
      "execution_count": null,
      "metadata": {
        "id": "lvlJnKk9VKOI"
      },
      "outputs": [],
      "source": [
        "class Block:\n",
        "    \"\"\"\n",
        "    x range from 0 to 5\n",
        "    y range from 0 to 5\n",
        "    \"\"\" \n",
        "    def __init__(self, x, y, direction, length):\n",
        "        global index\n",
        "        self.start_point_x = x\n",
        "        self.start_point_y = y\n",
        "        self.direction = direction\n",
        "        self.length = length\n",
        "        self.indx = index\n",
        "        index += 1          #when you initialize next item, its index will raise\n",
        "        \n",
        "    def __str__(self):\n",
        "        a = 'start_point_x = %d\\\n",
        "        start_point_y = %d\\\n",
        "        direction = %s\\\n",
        "        length = %d\\\n",
        "        index  = %d'\\\n",
        "            % (int(self.start_point_x),\\\n",
        "            int(self.start_point_y),\\\n",
        "            self.direction,\\\n",
        "            int(self.length),\\\n",
        "            int(self.indx))\n",
        "        return a\n",
        "\n",
        "    def move(self, step, direct):\n",
        "        \"\"\"\n",
        "        :param step: int\n",
        "        :param direct: -1/+1\n",
        "        :return: new block\n",
        "        \"\"\"\n",
        "        if self.direction == \"h\":\n",
        "            self.start_point_x += step * direct\n",
        "        if self.direction == \"v\":\n",
        "            self.start_point_y += step * direct"
      ]
    },
    {
      "cell_type": "markdown",
      "metadata": {
        "id": "kYhUtec4MEH3"
      },
      "source": [
        "Now, `Map` class, represented by a numpy **6x6 matrix** <br>\n",
        "Some basic functions for `Map` class:\n",
        "- `add_block`: add an object from class `Block` to our map\n",
        "- `possible_move`: declare **every** possible move of **every** block in the map"
      ]
    },
    {
      "cell_type": "code",
      "execution_count": null,
      "metadata": {
        "id": "ZxYYOg4VMEun"
      },
      "outputs": [],
      "source": [
        "class Map:\n",
        "    def __init__(self):\n",
        "        self.map = np.array([[0 for i in range(6)] for i in range(6)])\n",
        "\n",
        "    def __str__(self):\n",
        "        return str(self.map)\n",
        "\n",
        "    def add_block(self, blk):\n",
        "        x, y, direction, length, index = (\n",
        "            blk.start_point_x,\n",
        "            blk.start_point_y,\n",
        "            blk.direction,\n",
        "            blk.length,\n",
        "            blk.indx,\n",
        "        )\n",
        "        if direction == \"h\":\n",
        "            for i in range(length):\n",
        "                self.map[y][x + i] = index\n",
        "        if direction == \"v\":\n",
        "            for i in range(length):\n",
        "                self.map[y + i][x] = index\n",
        "        \n",
        "    def possible_move(self, blk):\n",
        "        x, y, direction, length, index = (\n",
        "            blk.start_point_x,\n",
        "            blk.start_point_y,\n",
        "            blk.direction,\n",
        "            blk.length,\n",
        "            blk.indx\n",
        "        )\n",
        "        move_list = []\n",
        "        if direction == \"v\":\n",
        "            if y == 0:\n",
        "                up = 0\n",
        "            else:\n",
        "                for up in range(1, y + 1):\n",
        "                    if self.map[y - up][x] != 0:\n",
        "                        up -= 1\n",
        "                        break\n",
        "                    else:\n",
        "                        move_list.append((up, -1, index))    \n",
        "                        \n",
        "            if y + length == 6:\n",
        "                down = 0\n",
        "            else:\n",
        "                for down in range(1, 7 - y - length):\n",
        "                    if self.map[y + length + down - 1][x] != 0:\n",
        "                        down -= 1\n",
        "                        break\n",
        "                    else:\n",
        "                        move_list.append((down, +1, index))\n",
        "\n",
        "        if direction == \"h\":\n",
        "            if x == 0:\n",
        "                left = 0\n",
        "            else:\n",
        "                for left in range(1, x + 1):\n",
        "                    if self.map[y][x - left] != 0:\n",
        "                        left -= 1\n",
        "                        break\n",
        "                    else:\n",
        "                        move_list.append((left, -1, index))\n",
        "            if x + length == 6:\n",
        "                right = 0\n",
        "            else:\n",
        "                for right in range(1, 7 - x - length):\n",
        "                    if self.map[y][x + length + right - 1] != 0:\n",
        "                        right -= 1\n",
        "                        break\n",
        "                    else:\n",
        "                        move_list.append((right, +1, index))\n",
        "        return move_list"
      ]
    },
    {
      "cell_type": "markdown",
      "metadata": {
        "id": "axEJ6S2oMRLf"
      },
      "source": [
        "Finally, `State` class, the **core of the searching algorithms**. A state contains the map and all its blocks.<br>\n",
        "Its functions are:\n",
        "- `GetMap` returns the map itself for future functions and then `Display` prints the map\n",
        "-`GetNextMoves` returns the list of possible moves, calculated in `possible_move` function above\n",
        "-`NextStates` with parameter **move** from `GetNextMove`, returns the class `State` of the map obtained **after the move**"
      ]
    },
    {
      "cell_type": "code",
      "execution_count": null,
      "metadata": {
        "id": "OvBnyWV-MRz_"
      },
      "outputs": [],
      "source": [
        "class State():\n",
        "    def __init__(self, AllBlocks):\n",
        "        self.AllBlocks = AllBlocks\n",
        "        self.GameMap = Map()\n",
        "        for block in self.AllBlocks:\n",
        "            self.GameMap.add_block(block)  \n",
        "    def GetMap(self):\n",
        "        return self.GameMap\n",
        "    \n",
        "    def GetNextMoves(self):\n",
        "        All_Moves_list = []\n",
        "        a = self.GetMap()\n",
        "        for blk in self.AllBlocks:\n",
        "            All_Moves_list += a.possible_move(blk)\n",
        "        return All_Moves_list\n",
        "\n",
        "    def Display(self):\n",
        "        return self.GameMap.__str__()\n",
        "    \n",
        "    def NextStates(self, move):\n",
        "        New = []\n",
        "        for block in self.AllBlocks:\n",
        "            TempBlock = copy.copy(block)\n",
        "            if TempBlock.indx == move[2]:\n",
        "                TempBlock.move(move[1], move[0])\n",
        "            New.append(TempBlock)\n",
        "        return State(New)"
      ]
    },
    {
      "cell_type": "markdown",
      "metadata": {
        "id": "O6K3nO4lW9xn"
      },
      "source": [
        "Function `read_input` helps initializing the files *inp(x).txt* where x is the number of input set"
      ]
    },
    {
      "cell_type": "code",
      "execution_count": null,
      "metadata": {
        "id": "GwBU7dZsW9C4"
      },
      "outputs": [],
      "source": [
        "def read_input(file_name): # read a text file and return an instance of Map class\n",
        "    m = Map()\n",
        "    AllBlocks = []\n",
        "    with open(file_name) as f:\n",
        "        list_of_blocks = f.readlines()[:]\n",
        "        number_of_blocks = len(list_of_blocks)\n",
        "        for i in range(number_of_blocks):\n",
        "            if i == number_of_blocks-1:\n",
        "                block = list_of_blocks[i].strip()\n",
        "            else:\n",
        "                block = list_of_blocks[i][:-1].strip()\n",
        "            x = int(block[0])\n",
        "            y = int(block[2])\n",
        "            direc = block[4]\n",
        "            length = int(block[-1])\n",
        "            blk = Block(x, y, direc, length)\n",
        "            AllBlocks.append(blk)\n",
        "            m.add_block(blk)\n",
        "    return m, AllBlocks\n"
      ]
    },
    {
      "cell_type": "markdown",
      "metadata": {
        "id": "TMY7GyTZvHLc"
      },
      "source": [
        "The map is displayed as below"
      ]
    },
    {
      "cell_type": "code",
      "execution_count": null,
      "metadata": {
        "colab": {
          "base_uri": "https://localhost:8080/"
        },
        "id": "x0FoNkKOsJ5W",
        "outputId": "0eaccc33-9bcc-43fb-ac45-cf4ec43ce66c"
      },
      "outputs": [
        {
          "name": "stdout",
          "output_type": "stream",
          "text": [
            "[[ 0  9  9  9  5  4]\n",
            " [ 7  7  6  6  5  4]\n",
            " [ 3  1 11 11  5  4]\n",
            " [ 3  1  0  2  0  0]\n",
            " [ 3  0  0  2  8  8]\n",
            " [ 0  0  0 10 10 10]]\n"
          ]
        }
      ],
      "source": [
        "index = 1\n",
        "MapTag = '55'\n",
        "to_solve = read_input('/content/testcases/inp%s.txt' % MapTag) \n",
        "print (to_solve[0])"
      ]
    },
    {
      "cell_type": "markdown",
      "metadata": {
        "id": "djoHhbT3J44U"
      },
      "source": [
        "For reference and comparison, we've also included images of the map"
      ]
    },
    {
      "cell_type": "code",
      "execution_count": null,
      "metadata": {
        "colab": {
          "base_uri": "https://localhost:8080/",
          "height": 568
        },
        "id": "MQk8e26oKAtg",
        "outputId": "3ca27874-2d62-4c03-d0fa-44fa0a48412e"
      },
      "outputs": [
        {
          "name": "stdout",
          "output_type": "stream",
          "text": [
            "This is the image of the map\n"
          ]
        },
        {
          "data": {
            "image/png": "[encoded data removed]",
            "text/plain": [
              "<PIL.Image.Image image mode=RGB size=640x534 at 0x7F6FE91CB2D0>"
            ]
          },
          "metadata": {},
          "output_type": "display_data"
        }
      ],
      "source": [
        "from google.colab.patches import cv2_imshow\n",
        "import cv2\n",
        "img = cv2.imread('/content/testcases/map%s.PNG' % MapTag)\n",
        "print ('This is the image of the map')\n",
        "cv2_imshow(img)"
      ]
    },
    {
      "cell_type": "markdown",
      "metadata": {
        "id": "sNqxC9y5NYrr"
      },
      "source": [
        "Classification of maps:\n",
        "- 1-7: Unsolvable instances\n",
        "- 8-10: Already goal state\n",
        "\n",
        "*Please note that the above map instances are only used to test Breadth-first search*<br>\n",
        "Our tests mainly focus on the following maps:\n",
        "- 11-30: Simple test cases (which are requiring less than 6 moves to solve)\n",
        "- 31-45: Hard test cases, in terms of looking for a move towards the solution. Their optimal solutions requires about 15 to 25 steps\n",
        "- 46-55: These test cases were generated by generator. We'll put it in the appendix."
      ]
    },
    {
      "cell_type": "markdown",
      "metadata": {
        "id": "Mmvwi2DNtEye"
      },
      "source": [
        "#Uninformed search"
      ]
    },
    {
      "cell_type": "markdown",
      "metadata": {
        "id": "Nc47nD3XgEcz"
      },
      "source": [
        "##Breadth-first search"
      ]
    },
    {
      "cell_type": "markdown",
      "metadata": {
        "id": "QinLTg4xAEQZ"
      },
      "source": [
        "Firstly, we define some functions that could help us perform Breadth- first search:\n",
        "- `Goal_state` function returns True **whenever the prison block can escape**.\n",
        "- `SuccGen` returns the nodes opened by **current state**, also it eliminates repeated nodes by using `AdjacentStates` dictionary.\n",
        "- `Trace` helps returning step-by-step solution with a list named `path`.\n",
        "- And finally `BFS` does breadth-first search.\n"
      ]
    },
    {
      "cell_type": "code",
      "execution_count": null,
      "metadata": {
        "id": "hTLTy4chAIDF"
      },
      "outputs": [],
      "source": [
        "def Goal_state(node):\n",
        "    start = node.AllBlocks[-1].start_point_x\n",
        "    if sum(node.GameMap.map[2, start: 6]) == node.AllBlocks[-1].indx * node.AllBlocks[-1].length:\n",
        "        return True\n",
        "    return False\n",
        "\n",
        "def SuccGen(CurrState): \n",
        "    ChildLst = []\n",
        "    for move in CurrState.GetNextMoves():\n",
        "        NextState = CurrState.NextStates(move)\n",
        "        if NextState.GameMap.__str__() not in AdjacentStates:\n",
        "            AdjacentStates[NextState.GameMap.__str__()] = CurrState.GameMap.__str__()\n",
        "            ChildLst.append(NextState)    \n",
        "    return ChildLst\n",
        "\n",
        "def Trace():\n",
        "    CurrPos = FinishNode\n",
        "    while CurrPos != InitState.GameMap.__str__():\n",
        "        path.append(CurrPos)\n",
        "        CurrPos = AdjacentStates[CurrPos]\n",
        "        \n",
        "def BFS(root):\n",
        "    if Goal_state(root):\n",
        "      return 'Already goal'\n",
        "    else:\n",
        "      Queue = SuccGen(root)\n",
        "      while len(Queue) != 0:\n",
        "          CurrNode = Queue.pop(0)\n",
        "          if Goal_state(CurrNode):\n",
        "              return CurrNode.GameMap.__str__()\n",
        "          else:\n",
        "              for ChildNode in SuccGen(CurrNode):\n",
        "                  Queue.append(ChildNode)\n",
        "      return 'Failure'"
      ]
    },
    {
      "cell_type": "markdown",
      "metadata": {
        "id": "9Ux6ojepmS0i"
      },
      "source": [
        "### Map solver<br>\n",
        "Here we perform Breadth-first search on our game map."
      ]
    },
    {
      "cell_type": "code",
      "execution_count": null,
      "metadata": {
        "id": "YRyIsUoYhGLa"
      },
      "outputs": [],
      "source": [
        "index = 1\n",
        "MapTag = '30'\n",
        "to_solve = read_input('/content/testcases/inp%s.txt' % MapTag) "
      ]
    },
    {
      "cell_type": "code",
      "execution_count": null,
      "metadata": {
        "colab": {
          "base_uri": "https://localhost:8080/"
        },
        "id": "9YP2VY2mK51T",
        "outputId": "32a61f24-1f6b-4856-91f5-e51c2073e4de"
      },
      "outputs": [
        {
          "name": "stdout",
          "output_type": "stream",
          "text": [
            "[[ 1  1  1  2  0  0]\n",
            " [ 3  0  0  2  4  4]\n",
            " [ 3  0 11 11  5  6]\n",
            " [ 0  0  0  0  5  6]\n",
            " [ 0  0  0  0  7  8]\n",
            " [ 9  9 10 10  7  8]]\n",
            "Number of steps: 5\n",
            "Step 1\n",
            "[[ 1  1  1  2  0  0]\n",
            " [ 3  0  0  2  4  4]\n",
            " [ 3 11 11  0  5  6]\n",
            " [ 0  0  0  0  5  6]\n",
            " [ 0  0  0  0  7  8]\n",
            " [ 9  9 10 10  7  8]]\n",
            "\n",
            "Step 2\n",
            "[[ 1  1  1  0  0  0]\n",
            " [ 3  0  0  0  4  4]\n",
            " [ 3 11 11  0  5  6]\n",
            " [ 0  0  0  2  5  6]\n",
            " [ 0  0  0  2  7  8]\n",
            " [ 9  9 10 10  7  8]]\n",
            "\n",
            "Step 3\n",
            "[[ 1  1  1  0  0  0]\n",
            " [ 3  0  4  4  0  0]\n",
            " [ 3 11 11  0  5  6]\n",
            " [ 0  0  0  2  5  6]\n",
            " [ 0  0  0  2  7  8]\n",
            " [ 9  9 10 10  7  8]]\n",
            "\n",
            "Step 4\n",
            "[[ 1  1  1  0  5  0]\n",
            " [ 3  0  4  4  5  0]\n",
            " [ 3 11 11  0  0  6]\n",
            " [ 0  0  0  2  0  6]\n",
            " [ 0  0  0  2  7  8]\n",
            " [ 9  9 10 10  7  8]]\n",
            "\n",
            "Step 5\n",
            "[[ 1  1  1  0  5  6]\n",
            " [ 3  0  4  4  5  6]\n",
            " [ 3 11 11  0  0  0]\n",
            " [ 0  0  0  2  0  0]\n",
            " [ 0  0  0  2  7  8]\n",
            " [ 9  9 10 10  7  8]]\n",
            "\n"
          ]
        }
      ],
      "source": [
        "index = 1\n",
        "All_Blocks = to_solve[1]\n",
        "InitState = State(All_Blocks)\n",
        "\n",
        "\n",
        "\n",
        "AdjacentStates = dict()\n",
        "path = []\n",
        "print(InitState.GameMap)\n",
        "FinishNode = BFS(InitState)\n",
        "\n",
        "if FinishNode == 'Already goal':\n",
        "  print('Goal reached already')\n",
        "\n",
        "elif FinishNode != 'Failure':\n",
        "    Trace()\n",
        "\n",
        "    print('Number of steps: %d' %(len(path)))\n",
        "\n",
        "    for i in range(len(path) -1, -1, -1):\n",
        "        print('Step %d' % (len(path) - i))\n",
        "        print(path[i])\n",
        "        print()\n",
        "else:\n",
        "    print('We have been stucked! No ways to escape!')\n"
      ]
    },
    {
      "cell_type": "markdown",
      "metadata": {
        "id": "DJhbPjREtUx-"
      },
      "source": [
        "### Testcases - Analysis"
      ]
    },
    {
      "cell_type": "markdown",
      "metadata": {
        "id": "qySP5YP3K5sU"
      },
      "source": [
        "Here's some analysis of the testcases.<br> Note that map 1-7 are unsolvable testcases and 8-10 are at their goal states already, so we skipped them.\n"
      ]
    },
    {
      "cell_type": "code",
      "execution_count": null,
      "metadata": {
        "colab": {
          "base_uri": "https://localhost:8080/"
        },
        "id": "aAY6SY-asYQ-",
        "outputId": "df14fe3e-22d6-4e55-e27d-233a130d551e"
      },
      "outputs": [
        {
          "name": "stdout",
          "output_type": "stream",
          "text": [
            "Map: 11  Number of steps: 02  Fringe nodes: 00052  Time: 0.04309 sec\n",
            "Map: 12  Number of steps: 02  Fringe nodes: 00278  Time: 0.20453 sec\n",
            "Map: 13  Number of steps: 02  Fringe nodes: 00343  Time: 0.30776 sec\n",
            "Map: 14  Number of steps: 02  Fringe nodes: 00166  Time: 0.14229 sec\n",
            "Map: 15  Number of steps: 02  Fringe nodes: 00079  Time: 0.04828 sec\n",
            "Map: 16  Number of steps: 04  Fringe nodes: 00414  Time: 0.59557 sec\n",
            "Map: 17  Number of steps: 04  Fringe nodes: 00242  Time: 0.37676 sec\n",
            "Map: 18  Number of steps: 04  Fringe nodes: 00041  Time: 0.04293 sec\n",
            "Map: 19  Number of steps: 04  Fringe nodes: 00124  Time: 0.13628 sec\n",
            "Map: 20  Number of steps: 04  Fringe nodes: 00038  Time: 0.07951 sec\n",
            "Map: 21  Number of steps: 04  Fringe nodes: 01955  Time: 2.95395 sec\n",
            "Map: 22  Number of steps: 04  Fringe nodes: 00402  Time: 0.73781 sec\n",
            "Map: 23  Number of steps: 04  Fringe nodes: 01261  Time: 1.89931 sec\n",
            "Map: 24  Number of steps: 04  Fringe nodes: 00060  Time: 0.05832 sec\n",
            "Map: 25  Number of steps: 04  Fringe nodes: 00045  Time: 0.05015 sec\n",
            "Map: 26  Number of steps: 04  Fringe nodes: 00026  Time: 0.02303 sec\n",
            "Map: 27  Number of steps: 06  Fringe nodes: 00129  Time: 0.23699 sec\n",
            "Map: 28  Number of steps: 04  Fringe nodes: 00058  Time: 0.07336 sec\n",
            "Map: 29  Number of steps: 06  Fringe nodes: 00134  Time: 0.18448 sec\n",
            "Map: 30  Number of steps: 05  Fringe nodes: 01270  Time: 1.67743 sec\n",
            "Map: 31  Number of steps: 15  Fringe nodes: 01820  Time: 3.50861 sec\n",
            "Map: 32  Number of steps: 17  Fringe nodes: 00212  Time: 0.36676 sec\n",
            "Map: 33  Number of steps: 14  Fringe nodes: 01588  Time: 2.79564 sec\n",
            "Map: 34  Number of steps: 15  Fringe nodes: 02093  Time: 4.12705 sec\n",
            "Map: 35  Number of steps: 17  Fringe nodes: 01647  Time: 3.98723 sec\n",
            "Map: 36  Number of steps: 14  Fringe nodes: 00078  Time: 0.09202 sec\n",
            "Map: 37  Number of steps: 14  Fringe nodes: 00828  Time: 1.45817 sec\n",
            "Map: 38  Number of steps: 17  Fringe nodes: 05007  Time: 12.76321 sec\n",
            "Map: 39  Number of steps: 18  Fringe nodes: 02729  Time: 5.47842 sec\n",
            "Map: 40  Number of steps: 17  Fringe nodes: 06676  Time: 16.71480 sec\n",
            "Map: 41  Number of steps: 20  Fringe nodes: 02167  Time: 4.64116 sec\n",
            "Map: 42  Number of steps: 21  Fringe nodes: 01247  Time: 2.24148 sec\n",
            "Map: 43  Number of steps: 21  Fringe nodes: 04868  Time: 11.16277 sec\n",
            "Map: 44  Number of steps: 22  Fringe nodes: 40933  Time: 124.51676 sec\n",
            "Map: 45  Number of steps: 20  Fringe nodes: 05993  Time: 14.13779 sec\n",
            "Map: 46  Number of steps: 19  Fringe nodes: 02076  Time: 4.19242 sec\n",
            "Map: 47  Number of steps: 08  Fringe nodes: 02050  Time: 2.91637 sec\n",
            "Map: 48  Number of steps: 11  Fringe nodes: 01099  Time: 2.17505 sec\n",
            "Map: 49  Number of steps: 18  Fringe nodes: 00782  Time: 1.32665 sec\n",
            "Map: 50  Number of steps: 05  Fringe nodes: 03610  Time: 5.62829 sec\n",
            "Map: 51  Number of steps: 05  Fringe nodes: 01541  Time: 2.07037 sec\n",
            "Map: 52  Number of steps: 08  Fringe nodes: 00913  Time: 1.50435 sec\n",
            "Map: 53  Number of steps: 09  Fringe nodes: 01862  Time: 4.31100 sec\n",
            "Map: 54  Number of steps: 10  Fringe nodes: 01075  Time: 2.08444 sec\n"
          ]
        }
      ],
      "source": [
        "import time\n",
        "for map_index in range (11,56):\n",
        "\n",
        "    index = 1\n",
        "    to_solve = read_input('/content/testcases/inp%02i.txt' % map_index)\n",
        "    All_Blocks = to_solve[1]\n",
        "    InitState = State(All_Blocks)\n",
        "    AdjacentStates = dict()\n",
        "    path = []\n",
        "\n",
        "    start = time.time()\n",
        "\n",
        "    FinishNode = BFS(InitState)\n",
        "    Trace()\n",
        "\n",
        "    end = time.time()\n",
        "    \n",
        "    print('Map: %i  Number of steps: %02d  Fringe nodes: %05d  Time: %s sec' %(map_index, len(path), len(AdjacentStates), '{:.5f}'.format(end-start)))"
      ]
    },
    {
      "cell_type": "markdown",
      "metadata": {
        "id": "zgw1ZC3A1kAB"
      },
      "source": [
        "As observed above, most of the time, we obtain quite a acceptable runtime, *except for map 44*"
      ]
    },
    {
      "cell_type": "markdown",
      "metadata": {
        "id": "0dCAfi3-0nJm"
      },
      "source": [
        "##Iterative Deepening search"
      ]
    },
    {
      "cell_type": "markdown",
      "metadata": {
        "id": "GDX_sr8JBmfa"
      },
      "source": [
        "###Not deleting repetitive nodes: Map solver (for map 11 to 30)"
      ]
    },
    {
      "cell_type": "markdown",
      "metadata": {
        "id": "MSuW4hpViB7V"
      },
      "source": [
        "Here we define some functions, some are previously defined in the Breadth-first search section.<br>\n",
        "- `DLS` perform recursive depth-limited search for the node.<br>\n",
        "- Then `IDS` increases the maximum depth of `DLS` until we find the solution.<br>\n",
        "\n",
        "**Note**: because of high number of recursive call, we only consider "
      ]
    },
    {
      "cell_type": "code",
      "execution_count": null,
      "metadata": {
        "id": "1VMbfc51iCS9"
      },
      "outputs": [],
      "source": [
        "def Goal_state(node):\n",
        "    start = node.AllBlocks[-1].start_point_x\n",
        "    if sum(node.GameMap.map[2, start: 6]) == All_Blocks[-1].indx * All_Blocks[-1].length:\n",
        "        return True\n",
        "    return False\n",
        "\n",
        "def SuccGen_dfs(CurrState): \n",
        "    ChildLst_dfs = []\n",
        "    for move in CurrState.GetNextMoves():\n",
        "        NextState = CurrState.NextStates(move)\n",
        "        ChildLst_dfs.append(NextState)    \n",
        "    return ChildLst_dfs\n",
        "    \n",
        "def DLS(root, max_level):\n",
        "    path_ids.append(root.GameMap.__str__())\n",
        "    if Goal_state(root):\n",
        "        return path_ids\n",
        "    if len(path_ids) == max_level:\n",
        "        return False\n",
        "    for ChildNode in SuccGen_dfs(root):\n",
        "        if DLS(ChildNode, max_level):\n",
        "            return path_ids\n",
        "        path_ids.pop()\n",
        "    return False\n",
        "\n",
        "def IDS(root, depth = 1):\n",
        "    global path_ids\n",
        "    while not DLS (root, depth):\n",
        "        depth+= 1\n",
        "        path_ids = []\n"
      ]
    },
    {
      "cell_type": "code",
      "execution_count": null,
      "metadata": {
        "id": "pNMuQKcz4t39"
      },
      "outputs": [],
      "source": [
        "index = 1\n",
        "MapTag = '28'\n",
        "to_solve = read_input('/content/testcases/inp%s.txt' % MapTag) "
      ]
    },
    {
      "cell_type": "code",
      "execution_count": null,
      "metadata": {
        "id": "fOhdveUKqtZK"
      },
      "outputs": [],
      "source": [
        "path_ids = []\n",
        "index = 1\n",
        "\n",
        "All_Blocks = to_solve[1]\n",
        "InitState = State(All_Blocks)\n",
        "start = time.time()\n",
        "print(InitState.GameMap)\n",
        "IDS(InitState)\n",
        "print ('Number of steps:',len(path_ids)-1)\n",
        "for step in range(1, len (path_ids)):\n",
        "    print()\n",
        "    print('Step',step)\n",
        "    print(path_ids[step])\n",
        "end = time.time()\n",
        "print ('Map:', MapTag, 'runtime:', '{:.5f}'.format(end-start))"
      ]
    },
    {
      "cell_type": "markdown",
      "metadata": {
        "id": "g7TgZkTriGt8"
      },
      "source": [
        "###Not deleting repetitive nodes: Analysis(for map 11 to 30)<br>"
      ]
    },
    {
      "cell_type": "code",
      "execution_count": null,
      "metadata": {
        "id": "Pr3vqc1l44mN"
      },
      "outputs": [],
      "source": [
        "import time\n",
        "for MapTag in range (11,31):\n",
        "    path_ids = []\n",
        "    index = 1\n",
        "    to_solve = read_input('/content/testcases/inp%s.txt' % MapTag) \n",
        "    All_Blocks = to_solve[1]\n",
        "    InitState = State(All_Blocks)\n",
        "    start = time.time()\n",
        "    IDS(InitState)\n",
        "    end = time.time()\n",
        "    print ('Map:', MapTag, '     steps:', len(path_ids)-1, '     time:', '{:.5f}'.format(end-start), 'sec')"
      ]
    },
    {
      "cell_type": "markdown",
      "metadata": {
        "id": "8Hp_6i4aiSJa"
      },
      "source": [
        "###Deleting repetitive nodes: Map solver"
      ]
    },
    {
      "cell_type": "markdown",
      "metadata": {
        "id": "1BDjCGHx_eNX"
      },
      "source": [
        "Firstly, we define some functions that could help us perform Iterative deepening search:\n",
        "- Once again, `goal_state` function returns True **whenever the prison block can escape**.\n",
        "- `depth_limited_search` performs depth-first-search with limited depth and returning step-by-step solution with a list named `solution` when it finds the goal state.\n",
        "- `iterative_deepening_search` performs `depth_limited_search` with increasing depth limit starting from 0 till it finds the goal state.\n",
        "- `print_result` calls the `iterative_deepening_search` and print the solution to users, makes it easier to use.<br>\n",
        "\n",
        "**Note:** `iterative_deepening_search` can't check whether the solution exists or not also the function only expands unvisited nodes so that it can save a lot of time but can't find the optimal solution.\n",
        "\n"
      ]
    },
    {
      "cell_type": "code",
      "execution_count": null,
      "metadata": {
        "id": "kTFQEvHNh3O0"
      },
      "outputs": [],
      "source": [
        "def goal_state(node):\n",
        "    start = node.AllBlocks[-1].start_point_x\n",
        "    if sum(node.GameMap.map[2, start: 6]) == node.AllBlocks[-1].indx * node.AllBlocks[-1].length:\n",
        "        return True\n",
        "    return False\n",
        "\n",
        "def depth_limited_search(m, max_depth, current_depth):\n",
        "    if current_depth >= max_depth: return #if the current depth >= the depth we set then return(stop)\n",
        "    global solution \n",
        "    global check\n",
        "    global visited\n",
        "    global count\n",
        "    if check: return #if found the solution then return(stop)\n",
        "    visited.add(m.GameMap.__str__()) #add this board so we don't encounter it again\n",
        "    boards = [m]\n",
        "    for board in boards:\n",
        "        #make a list of possible moves\n",
        "        for move in m.GetNextMoves():\n",
        "            d = m.NextStates(move)\n",
        "            # print(move)\n",
        "            if d.GameMap.__str__() not in visited:\n",
        "                visited.add(d.GameMap.__str__()) #add this board so we don't encounter it again\n",
        "                steps[current_depth].append((board.GameMap.__str__(), d.GameMap.__str__())) #save the board for tracking back\n",
        "                if goal_state(d): #if solution found \n",
        "                    check = 1\n",
        "                    count += 1\n",
        "                    if count == 1:\n",
        "                        solution.append(d.GameMap.__str__())\n",
        "                        solution.append(board.GameMap.__str__())\n",
        "                        temp = board.GameMap.__str__()\n",
        "                        k = len(steps)\n",
        "                        while k > 0: # tracking back\n",
        "                            for board_step in steps[k - 1]:\n",
        "                                if temp == board_step[1]:\n",
        "                                    solution.append(board_step[0])\n",
        "                                    index = steps[k - 1].index(board_step)\n",
        "                                    temp = board_step[0]\n",
        "                            k -= 1                                \n",
        "                        return\n",
        "                depth_limited_search(d, max_depth, current_depth + 1) # solution not found, call the function with this map\n",
        "    \n",
        "def iterative_deepening_search(m):\n",
        "    i = 0\n",
        "    global steps\n",
        "    global visited\n",
        "    global check\n",
        "    global solution\n",
        "    global count\n",
        "    solution = []\n",
        "    check = 0\n",
        "    count = 0\n",
        "    while not check:\n",
        "        # print('max_depth', i)\n",
        "        visited = set()\n",
        "        check = 0\n",
        "        steps = [[] for j in range(i)]\n",
        "        str_steps = [[] for j in range(i)]\n",
        "        depth_limited_search(m, i, 0)\n",
        "        i += 1\n",
        "        \n",
        "def print_result(m):\n",
        "    global solution\n",
        "    start = time.time()\n",
        "    iterative_deepening_search(m)\n",
        "    initial_board = solution.pop()\n",
        "    solution = solution[::-1]\n",
        "    run_time = time.time() - start"
      ]
    },
    {
      "cell_type": "code",
      "execution_count": null,
      "metadata": {
        "id": "qWj9us0bqWFZ"
      },
      "outputs": [],
      "source": [
        "index = 1\n",
        "MapTag = '11'\n",
        "to_solve = read_input('/content/testcases/inp%s.txt' % MapTag) "
      ]
    },
    {
      "cell_type": "code",
      "execution_count": null,
      "metadata": {
        "id": "h1jQAQX88n9k"
      },
      "outputs": [],
      "source": [
        "import time\n",
        "AllBlocks = to_solve[1]\n",
        "InitState = State(AllBlocks)\n",
        "print(InitState.GameMap)\n",
        "\n",
        "start = time.time()\n",
        "print_result(InitState)\n",
        "end = time.time()\n",
        "\n",
        "for step in range(len(solution)):\n",
        "    print()\n",
        "    print ('Step ', step+1)\n",
        "    print(solution[step])\n",
        "print('\\nMap:',MapTag, ' time:','{:.5f}'.format(end-start))"
      ]
    },
    {
      "cell_type": "markdown",
      "metadata": {
        "id": "fy2KMFFkCFjS"
      },
      "source": [
        "###Deleting repetitive nodes: Analysis\n"
      ]
    },
    {
      "cell_type": "code",
      "execution_count": null,
      "metadata": {
        "colab": {
          "background_save": true
        },
        "id": "g07P4X9KCGiR",
        "outputId": "c539c062-2d5a-487e-eeb2-56f9c0617858"
      },
      "outputs": [
        {
          "name": "stdout",
          "output_type": "stream",
          "text": [
            "Map: 11   Steps: 02   Number of nodes: 00016   Time: 0.02150 sec\n",
            "Map: 12   Steps: 02   Number of nodes: 00031   Time: 0.02493 sec\n",
            "Map: 13   Steps: 02   Number of nodes: 00065   Time: 0.04944 sec\n",
            "Map: 14   Steps: 02   Number of nodes: 00028   Time: 0.02257 sec\n",
            "Map: 15   Steps: 02   Number of nodes: 00014   Time: 0.01422 sec\n",
            "Map: 16   Steps: 04   Number of nodes: 00044   Time: 0.19574 sec\n",
            "Map: 17   Steps: 04   Number of nodes: 00100   Time: 0.13338 sec\n",
            "Map: 18   Steps: 05   Number of nodes: 00021   Time: 0.05385 sec\n",
            "Map: 19   Steps: 08   Number of nodes: 00026   Time: 0.24998 sec\n",
            "Map: 20   Steps: 11   Number of nodes: 00036   Time: 0.23879 sec\n",
            "Map: 21   Steps: 05   Number of nodes: 00574   Time: 0.96788 sec\n",
            "Map: 22   Steps: 05   Number of nodes: 00141   Time: 0.27640 sec\n",
            "Map: 23   Steps: 06   Number of nodes: 00335   Time: 0.71971 sec\n",
            "Map: 24   Steps: 06   Number of nodes: 00026   Time: 0.06863 sec\n",
            "Map: 25   Steps: 04   Number of nodes: 00015   Time: 0.01956 sec\n",
            "Map: 26   Steps: 06   Number of nodes: 00015   Time: 0.04216 sec\n",
            "Map: 27   Steps: 09   Number of nodes: 00095   Time: 0.24851 sec\n",
            "Map: 28   Steps: 05   Number of nodes: 00029   Time: 0.08264 sec\n",
            "Map: 29   Steps: 08   Number of nodes: 00032   Time: 0.22671 sec\n",
            "Map: 30   Steps: 15   Number of nodes: 00522   Time: 2.31622 sec\n"
          ]
        }
      ],
      "source": [
        "for MapTag in range (11, 31):\n",
        "    global index\n",
        "    index = 1\n",
        "    to_solve = read_input('/content/testcases/inp%i.txt' % MapTag)\n",
        "    All_Blocks = to_solve[1]\n",
        "    InitState = State(All_Blocks)\\\n",
        "\n",
        "    start = time.time()\n",
        "    print_result(InitState)\n",
        "    end = time.time()\n",
        "    print('Map: %i   Steps: %02d   Number of nodes: %05d   Time: %s sec' %(MapTag, len(solution), len(visited), '{:.5f}'.format(end-start)))"
      ]
    },
    {
      "cell_type": "markdown",
      "metadata": {
        "id": "1qCZLpsEBlxK"
      },
      "source": [
        "# Informed search\n"
      ]
    },
    {
      "cell_type": "markdown",
      "metadata": {
        "id": "y-Rm7Zvzr7Tv"
      },
      "source": [
        "In this part, we use the structure of priority queue to derive the nodes with the best heuristic.<br>\n",
        "Thus, some classes need adjustment.<br>\n",
        "For example, class `State` now include the evaluation function **f(state)=g(state)+h(state)**<br>\n",
        "The priority queue structure is implemented in class `PriorityQueue`"
      ]
    },
    {
      "cell_type": "code",
      "execution_count": null,
      "metadata": {
        "colab": {
          "background_save": true
        },
        "id": "pubz0mL6zhDL"
      },
      "outputs": [],
      "source": [
        "import numpy as np\n",
        "import copy\n",
        "\n",
        "class Block:\n",
        "    index = 0\n",
        "    \"\"\"\n",
        "    x range from 0 to 5\n",
        "    y range from 0 to 5\n",
        "    \"\"\" \n",
        "    def __init__(self, x, y, direction, length):\n",
        "        global index\n",
        "        self.start_point_x = x\n",
        "        self.start_point_y = y\n",
        "        self.direction = direction\n",
        "        self.length = length\n",
        "        Block.index += 1  #when you initialize next item, its index will raise\n",
        "        self.indx = Block.index\n",
        "                 \n",
        "        \n",
        "    def __str__(self):\n",
        "        a = 'start_point_x = %d\\\n",
        "        start_point_y = %d\\\n",
        "        direction = %s\\\n",
        "        length = %d\\\n",
        "        index  = %d'\\\n",
        "            % (int(self.start_point_x),\\\n",
        "            int(self.start_point_y),\\\n",
        "            self.direction,\\\n",
        "            int(self.length),\\\n",
        "            int(self.indx))\n",
        "        return a\n",
        "\n",
        "    def move(self, step, direct):\n",
        "        \"\"\"\n",
        "        :param step: int\n",
        "        :param direct: -1/+1\n",
        "        :return: new block\n",
        "        \"\"\"\n",
        "        if self.direction == \"h\":\n",
        "            self.start_point_x += step * direct\n",
        "        if self.direction == \"v\":\n",
        "            self.start_point_y += step * direct\n",
        "            \n",
        "    def restartTag():\n",
        "        Block.index = 0\n",
        "    def __eq__(self, other):\n",
        "        return self.start_point_x == other.start_point_x and self.start_point_y == other.start_point_y\n",
        "\n",
        "class State():\n",
        "    def __init__(self, AllBlocks, InitCost = 0, Func = None):\n",
        "        self.AllBlocks = AllBlocks\n",
        "        self.GameMap = Map()\n",
        "        for block in self.AllBlocks:\n",
        "            self.GameMap.add_block(block)\n",
        "        self.InitCost = InitCost\n",
        "        self.Eval = None\n",
        "        self.Func = Func\n",
        "        self.GetEvaluation()\n",
        "\n",
        "        Block.restartTag()\n",
        "        \n",
        "    def __lt__(self, other):\n",
        "        return self.Eval < other.Eval\n",
        "    def __gt__(self, other):\n",
        "        return self.Eval > other.Eval\n",
        "    def __eq__(self, other):    \n",
        "        return self.Eval == other.Eval\n",
        "    \n",
        "    def GetEvaluation(self):\n",
        "        if self.Func != None:\n",
        "            self.Eval = self.InitCost + self.Func(self)\n",
        "        else: \n",
        "            self.Eval = self.InitCost \n",
        "        \n",
        "    def GetMap(self):\n",
        "        return self.GameMap\n",
        "    \n",
        "    def GetNextMoves(self):\n",
        "        All_Moves_list = []\n",
        "        a = self.GetMap()\n",
        "        for blk in self.AllBlocks:\n",
        "            All_Moves_list += a.possible_move(blk)\n",
        "        return All_Moves_list\n",
        "\n",
        "    def Display(self):\n",
        "        return self.GameMap.__str__()\n",
        "    \n",
        "    def NextState(self, move):\n",
        "        New = []\n",
        "        for block in self.AllBlocks:\n",
        "            TempBlock = copy.copy(block)\n",
        "            if TempBlock.indx == move[2]:\n",
        "                TempBlock.move(move[0], move[1])\n",
        "            New.append(TempBlock)\n",
        "        return State(New, self.InitCost + 1 , self.Func)\n",
        "\n",
        "class PriorityQueue():\n",
        "    def __init__(self, Lst):\n",
        "        self.Lst = Lst\n",
        "        if self.GetSize() > 1:\n",
        "            self.BuildHeap()\n",
        "    \n",
        "    def __str__(self):\n",
        "        return str(self.Lst)\n",
        "\n",
        "    def GetSize(self):\n",
        "        return len(self.Lst)\n",
        "    \n",
        "    def BuildHeap(self):\n",
        "        for i in range((self.GetSize() // 2) - 1, -1):\n",
        "            self.Heapify(i)\n",
        "            \n",
        "    def Swap(self, i, j):\n",
        "        self.Lst[i], self.Lst[j] = self.Lst[j], self.Lst[i]\n",
        "        \n",
        "    def Heapify(self, i):\n",
        "        l = i * 2 + 1\n",
        "        r = i * 2 + 2\n",
        "        MinId = i\n",
        "        if r <= self.GetSize() - 1:\n",
        "            if self.Lst[MinId] > self.Lst[r]:\n",
        "                MinId = r\n",
        "            \n",
        "        if l <= self.GetSize() - 1:\n",
        "            if self.Lst[MinId] > self.Lst[l]:\n",
        "                MinId = l\n",
        "                \n",
        "        if MinId != i:\n",
        "            self.Swap(i, MinId)\n",
        "            self.Heapify(MinId)\n",
        "\n",
        "    def RevHeapify(self, i):\n",
        "        parent = i // 2\n",
        "        if parent != i and self.Lst[parent] > self.Lst[i]:\n",
        "            self.Swap(parent, i)\n",
        "            self.RevHeapify(parent)\n",
        "            \n",
        "    def Minimum(self):\n",
        "        if self.GetSize != 0:\n",
        "            return self.Lst[0]\n",
        "        else:\n",
        "            return float('inf')\n",
        "            \n",
        "    def Enqueue(self, a):\n",
        "        self.Lst.append(a)\n",
        "        self.RevHeapify(self.GetSize() - 1)\n",
        "        \n",
        "    def Dequeue(self):\n",
        "        self.Swap(0, self.GetSize() - 1)\n",
        "        Max = self.Lst.pop()\n",
        "        self.Heapify(0)\n",
        "        return Max    "
      ]
    },
    {
      "cell_type": "markdown",
      "metadata": {
        "id": "tRdx1m-pm7MF"
      },
      "source": [
        "##Heuristic functions"
      ]
    },
    {
      "cell_type": "markdown",
      "metadata": {
        "id": "aCJK3k1bm_OF"
      },
      "source": [
        "###Heuristic 1<br>\n",
        "We call this heuristic 'blockage' heuristic. This heuristic is the one that most people who try to solve the board must have thought of.<br> It is based on the condition that vertical blocks should not block the way to the escape.<br>\n"
      ]
    },
    {
      "cell_type": "code",
      "execution_count": null,
      "metadata": {
        "colab": {
          "background_save": true
        },
        "id": "4-7qohQbm-0u",
        "outputId": "25d2eed0-b0f2-48f3-8a7a-6e5ac53dd069"
      },
      "outputs": [
        {
          "name": "stdout",
          "output_type": "stream",
          "text": [
            "This is the explanation of Heuristic 1\n"
          ]
        },
        {
          "data": {
            "image/png": "[encoded data removed]",
            "text/plain": [
              "<PIL.Image.Image image mode=RGB size=1075x717 at 0x7F6FD91DE9D0>"
            ]
          },
          "metadata": {},
          "output_type": "display_data"
        }
      ],
      "source": [
        "from google.colab.patches import cv2_imshow\n",
        "import cv2\n",
        "img = cv2.imread('/content/heuristic/heu1.PNG')\n",
        "print ('This is the explanation of Heuristic 1')\n",
        "cv2_imshow(img)"
      ]
    },
    {
      "cell_type": "markdown",
      "metadata": {
        "id": "bOtMO94fn9CG"
      },
      "source": [
        "Here's the implementation of Heuristic 1"
      ]
    },
    {
      "cell_type": "code",
      "execution_count": null,
      "metadata": {
        "colab": {
          "background_save": true
        },
        "id": "PMvn5S5foB21"
      },
      "outputs": [],
      "source": [
        "def Heuristics1(State):\n",
        "    count = 0\n",
        "    for block in State.AllBlocks:\n",
        "        if block.length == 3:\n",
        "            if block.direction == 'v':\n",
        "                if block.start_point_y != 3:\n",
        "                    count += 1 \n",
        "        else:\n",
        "            if block.direction == 'v':\n",
        "                if block.start_point_y != 0 or block.start_point_y != 4 or block.start_point_y != 3:\n",
        "                    count += 1\n",
        "    return count"
      ]
    },
    {
      "cell_type": "markdown",
      "metadata": {
        "id": "L2PgbgO1oIol"
      },
      "source": [
        "###Heuristic 2<br>\n",
        "This heuristic is calculated based on the difference between the number of nodes from current state to goal state.<br>\n",
        "The goal state is generated from the result of breadth first search"
      ]
    },
    {
      "cell_type": "code",
      "execution_count": null,
      "metadata": {
        "colab": {
          "background_save": true
        },
        "id": "M3w4SFNCpoOc",
        "outputId": "7b6af676-b5e1-413b-ff00-2395ec814b61"
      },
      "outputs": [
        {
          "name": "stdout",
          "output_type": "stream",
          "text": [
            "This is the explanation of Heuristic 2\n"
          ]
        },
        {
          "data": {
            "image/png": "[encoded data removed]",
            "text/plain": [
              "<PIL.Image.Image image mode=RGB size=822x456 at 0x7F6FD939FB90>"
            ]
          },
          "metadata": {},
          "output_type": "display_data"
        }
      ],
      "source": [
        "from google.colab.patches import cv2_imshow\n",
        "import cv2\n",
        "img = cv2.imread('/content/heuristic/heu2.PNG')\n",
        "print ('This is the explanation of Heuristic 2')\n",
        "cv2_imshow(img)"
      ]
    },
    {
      "cell_type": "markdown",
      "metadata": {
        "id": "f12deaAapo3X"
      },
      "source": [
        "Here's the implementation of Heuristic 2"
      ]
    },
    {
      "cell_type": "code",
      "execution_count": null,
      "metadata": {
        "colab": {
          "background_save": true
        },
        "id": "PnpX0L9Zptn2"
      },
      "outputs": [],
      "source": [
        "def Heuristics2(State):\n",
        "    global FinishAllBlocks\n",
        "    count = 0\n",
        "    for i in range(len(State.AllBlocks)):\n",
        "        if not (State.AllBlocks[i] == FinishAllBlocks[i]):\n",
        "            count += 1\n",
        "    return count"
      ]
    },
    {
      "cell_type": "markdown",
      "metadata": {
        "id": "5Es8_y8gpsfb"
      },
      "source": [
        "###Heuristic 3<br>\n",
        "This heuristic is calculated based on the Manhattan distance between the number of nodes from current state to goal state.<br>\n",
        "The goal state is also generated from the result of breadth first search."
      ]
    },
    {
      "cell_type": "code",
      "execution_count": null,
      "metadata": {
        "colab": {
          "background_save": true
        },
        "id": "4Lru5s3lqTns",
        "outputId": "643c4510-fadc-429c-995f-97a6b3a5140d"
      },
      "outputs": [
        {
          "name": "stdout",
          "output_type": "stream",
          "text": [
            "This is the explanation of Heuristic 3\n"
          ]
        },
        {
          "data": {
            "image/png": "[encoded data removed]",
            "text/plain": [
              "<PIL.Image.Image image mode=RGB size=752x473 at 0x7F6FD91EDCD0>"
            ]
          },
          "metadata": {},
          "output_type": "display_data"
        }
      ],
      "source": [
        "from google.colab.patches import cv2_imshow\n",
        "import cv2\n",
        "img = cv2.imread('/content/heuristic/heu3.PNG')\n",
        "print ('This is the explanation of Heuristic 3')\n",
        "cv2_imshow(img)"
      ]
    },
    {
      "cell_type": "markdown",
      "metadata": {
        "id": "SrElmvixqT6D"
      },
      "source": [
        "Here's the implementation of Heuristic 3"
      ]
    },
    {
      "cell_type": "code",
      "execution_count": null,
      "metadata": {
        "colab": {
          "background_save": true
        },
        "id": "_OholEGLqctz"
      },
      "outputs": [],
      "source": [
        "def Heuristics3(State):\n",
        "    global FinishAllBlocks\n",
        "    sum = 0\n",
        "    for i in range(len(State.AllBlocks)):\n",
        "        sum += abs(State.AllBlocks[i].start_point_x - FinishAllBlocks[i].start_point_x)\n",
        "        sum += abs(State.AllBlocks[i].start_point_y - FinishAllBlocks[i].start_point_y)\n",
        "    return sum"
      ]
    },
    {
      "cell_type": "markdown",
      "metadata": {
        "id": "Hvzsd8UnrxhY"
      },
      "source": [
        "## A* search"
      ]
    },
    {
      "cell_type": "markdown",
      "metadata": {
        "id": "OMI7Xf1pt2KT"
      },
      "source": [
        "Here we re-implement some functions to fit with the priority queue structure mentioned above"
      ]
    },
    {
      "cell_type": "code",
      "execution_count": null,
      "metadata": {
        "colab": {
          "background_save": true
        },
        "id": "Yp4rJ9TU8B08"
      },
      "outputs": [],
      "source": [
        "AdjacentStates = {}\n",
        "def Goal(node):\n",
        "    start = node.AllBlocks[-1].start_point_x\n",
        "    if sum(node.GameMap.map[2, start: 6]) == InitState.AllBlocks[-1].indx * InitState.AllBlocks[-1].length:\n",
        "        return True\n",
        "    return False\n",
        "\n",
        "def SuccGen(CurrState, PriQueue): \n",
        "    for move in CurrState.GetNextMoves():\n",
        "        NextState = CurrState.NextState(move)\n",
        "        if NextState.GameMap.__str__() not in AdjacentStates:\n",
        "            AdjacentStates[NextState.GameMap.__str__()] = CurrState.GameMap.__str__()\n",
        "            PriQueue.Enqueue(NextState)\n",
        "\n",
        "def Trace():\n",
        "    CurrPos = FinishNode\n",
        "    while CurrPos != InitState.GameMap.__str__():\n",
        "        path.append(CurrPos)\n",
        "        CurrPos = AdjacentStates[CurrPos]\n",
        "\n",
        "def A_star_search(root):\n",
        "    global Success\n",
        "    PriQueue = PriorityQueue([])\n",
        "    SuccGen(root, PriQueue)\n",
        "    while PriQueue.GetSize() != 0:\n",
        "        CurrNode = PriQueue.Dequeue()\n",
        "        \n",
        "        if Goal(CurrNode) == True:\n",
        "            return CurrNode\n",
        "        else:\n",
        "            SuccGen(CurrNode, PriQueue)\n",
        "    Success = False\n",
        "\n",
        "def Trace():\n",
        "    global path\n",
        "    CurrPos = FinishNode.GameMap.__str__()\n",
        "    while CurrPos != InitState.GameMap.__str__():\n",
        "        path.append(CurrPos)\n",
        "        CurrPos = AdjacentStates[CurrPos]"
      ]
    },
    {
      "cell_type": "markdown",
      "metadata": {
        "id": "fKjTNKGc3gnF"
      },
      "source": [
        "###A* search: solver"
      ]
    },
    {
      "cell_type": "markdown",
      "metadata": {
        "id": "b127nMXcA99e"
      },
      "source": [
        "####A* search: solver - Heuristic 1"
      ]
    },
    {
      "cell_type": "code",
      "execution_count": null,
      "metadata": {
        "colab": {
          "background_save": true
        },
        "id": "6Urv2KRJ3k-K"
      },
      "outputs": [],
      "source": [
        "Tag = 40\n",
        "_, All_Blocks = read_input('/content/testcases/inp%d.txt' % Tag)\n",
        "_, FinishAllBlocks = read_input('/content/testcases/inp%d_2.txt' % Tag)"
      ]
    },
    {
      "cell_type": "code",
      "execution_count": null,
      "metadata": {
        "colab": {
          "background_save": true
        },
        "id": "D5OlyPVgBBln"
      },
      "outputs": [],
      "source": [
        "Func = Heuristics1"
      ]
    },
    {
      "cell_type": "code",
      "execution_count": null,
      "metadata": {
        "colab": {
          "background_save": true
        },
        "id": "gFTRb-gk8d_n",
        "outputId": "e4b3c24a-675f-4f29-b84d-d0a4a4c5c4a5"
      },
      "outputs": [
        {
          "name": "stdout",
          "output_type": "stream",
          "text": [
            "[[ 0  1  2  2  2  3]\n",
            " [ 0  1  4  0  5  3]\n",
            " [12 12  4  6  5  7]\n",
            " [ 8  8  8  6  0  7]\n",
            " [ 9  0  0 10 10 10]\n",
            " [ 9 11 11  0  0  0]]\n",
            "Number of steps: 17\n",
            "Step 1\n",
            "[[ 0  1  2  2  2  3]\n",
            " [ 0  1  4  0  5  3]\n",
            " [12 12  4  6  5  7]\n",
            " [ 8  8  8  6  0  7]\n",
            " [ 9 10 10 10  0  0]\n",
            " [ 9 11 11  0  0  0]]\n",
            "\n",
            "Step 2\n",
            "[[ 0  1  2  2  2  3]\n",
            " [ 0  1  4  0  5  3]\n",
            " [12 12  4  6  5  0]\n",
            " [ 8  8  8  6  0  0]\n",
            " [ 9 10 10 10  0  7]\n",
            " [ 9 11 11  0  0  7]]\n",
            "\n",
            "Step 3\n",
            "[[ 0  1  2  2  2  0]\n",
            " [ 0  1  4  0  5  3]\n",
            " [12 12  4  6  5  3]\n",
            " [ 8  8  8  6  0  0]\n",
            " [ 9 10 10 10  0  7]\n",
            " [ 9 11 11  0  0  7]]\n",
            "\n",
            "Step 4\n",
            "[[ 0  1  0  2  2  2]\n",
            " [ 0  1  4  0  5  3]\n",
            " [12 12  4  6  5  3]\n",
            " [ 8  8  8  6  0  0]\n",
            " [ 9 10 10 10  0  7]\n",
            " [ 9 11 11  0  0  7]]\n",
            "\n",
            "Step 5\n",
            "[[ 0  1  4  2  2  2]\n",
            " [ 0  1  4  0  5  3]\n",
            " [12 12  0  6  5  3]\n",
            " [ 8  8  8  6  0  0]\n",
            " [ 9 10 10 10  0  7]\n",
            " [ 9 11 11  0  0  7]]\n",
            "\n",
            "Step 6\n",
            "[[ 0  1  4  2  2  2]\n",
            " [ 0  1  4  6  5  3]\n",
            " [12 12  0  6  5  3]\n",
            " [ 8  8  8  0  0  0]\n",
            " [ 9 10 10 10  0  7]\n",
            " [ 9 11 11  0  0  7]]\n",
            "\n",
            "Step 7\n",
            "[[ 0  1  4  2  2  2]\n",
            " [ 0  1  4  6  5  3]\n",
            " [12 12  0  6  5  3]\n",
            " [ 0  8  8  8  0  0]\n",
            " [ 9 10 10 10  0  7]\n",
            " [ 9 11 11  0  0  7]]\n",
            "\n",
            "Step 8\n",
            "[[ 0  1  4  2  2  2]\n",
            " [ 0  1  4  6  5  3]\n",
            " [ 0 12 12  6  5  3]\n",
            " [ 0  8  8  8  0  0]\n",
            " [ 9 10 10 10  0  7]\n",
            " [ 9 11 11  0  0  7]]\n",
            "\n",
            "Step 9\n",
            "[[ 0  1  4  2  2  2]\n",
            " [ 9  1  4  6  5  3]\n",
            " [ 9 12 12  6  5  3]\n",
            " [ 0  8  8  8  0  0]\n",
            " [ 0 10 10 10  0  7]\n",
            " [ 0 11 11  0  0  7]]\n",
            "\n",
            "Step 10\n",
            "[[ 0  1  4  2  2  2]\n",
            " [ 9  1  4  6  5  3]\n",
            " [ 9 12 12  6  5  3]\n",
            " [ 8  8  8  0  0  0]\n",
            " [ 0 10 10 10  0  7]\n",
            " [ 0 11 11  0  0  7]]\n",
            "\n",
            "Step 11\n",
            "[[ 0  1  4  2  2  2]\n",
            " [ 9  1  4  6  0  3]\n",
            " [ 9 12 12  6  0  3]\n",
            " [ 8  8  8  0  5  0]\n",
            " [ 0 10 10 10  5  7]\n",
            " [ 0 11 11  0  0  7]]\n",
            "\n",
            "Step 12\n",
            "[[ 0  1  4  2  2  2]\n",
            " [ 9  1  4  6  0  3]\n",
            " [ 9 12 12  6  0  3]\n",
            " [ 8  8  8  0  5  0]\n",
            " [10 10 10  0  5  7]\n",
            " [ 0 11 11  0  0  7]]\n",
            "\n",
            "Step 13\n",
            "[[ 0  1  4  2  2  2]\n",
            " [ 9  1  4  0  0  3]\n",
            " [ 9 12 12  0  0  3]\n",
            " [ 8  8  8  6  5  0]\n",
            " [10 10 10  6  5  7]\n",
            " [ 0 11 11  0  0  7]]\n",
            "\n",
            "Step 14\n",
            "[[ 0  1  4  2  2  2]\n",
            " [ 9  1  4  0  0  3]\n",
            " [ 9  0  0 12 12  3]\n",
            " [ 8  8  8  6  5  0]\n",
            " [10 10 10  6  5  7]\n",
            " [ 0 11 11  0  0  7]]\n",
            "\n",
            "Step 15\n",
            "[[ 0  1  0  2  2  2]\n",
            " [ 9  1  4  0  0  3]\n",
            " [ 9  0  4 12 12  3]\n",
            " [ 8  8  8  6  5  0]\n",
            " [10 10 10  6  5  7]\n",
            " [ 0 11 11  0  0  7]]\n",
            "\n",
            "Step 16\n",
            "[[ 0  1  2  2  2  0]\n",
            " [ 9  1  4  0  0  3]\n",
            " [ 9  0  4 12 12  3]\n",
            " [ 8  8  8  6  5  0]\n",
            " [10 10 10  6  5  7]\n",
            " [ 0 11 11  0  0  7]]\n",
            "\n",
            "Step 17\n",
            "[[ 0  1  2  2  2  3]\n",
            " [ 9  1  4  0  0  3]\n",
            " [ 9  0  4 12 12  0]\n",
            " [ 8  8  8  6  5  0]\n",
            " [10 10 10  6  5  7]\n",
            " [ 0 11 11  0  0  7]]\n",
            "\n",
            "Time:  17.032617330551147\n",
            "Nodes:  6695\n"
          ]
        }
      ],
      "source": [
        "InitState = State(All_Blocks, 0, Func)\n",
        "print(InitState.GameMap)\n",
        "start = time.time()\n",
        "path = []\n",
        "AdjacentStates = {}\n",
        "FinishNode = A_star_search(InitState)\n",
        "\n",
        "Trace()\n",
        "print('Number of steps: %d' %(len(path)))\n",
        "\n",
        "for i in range(len(path) -1, -1, -1):\n",
        "    print('Step %d' % (len(path) - i))\n",
        "    print(path[i])\n",
        "    print()\n",
        "\n",
        "stop = time.time()\n",
        "print('Time: ', stop - start) \n",
        "print('Nodes: ',len(AdjacentStates))"
      ]
    },
    {
      "cell_type": "markdown",
      "metadata": {
        "id": "cN9pFWB_BTX3"
      },
      "source": [
        "####A* search: solver - Heuristic 2"
      ]
    },
    {
      "cell_type": "code",
      "execution_count": null,
      "metadata": {
        "colab": {
          "background_save": true
        },
        "id": "Rb-26TZnBZYe"
      },
      "outputs": [],
      "source": [
        "Func = Heuristics2"
      ]
    },
    {
      "cell_type": "code",
      "execution_count": null,
      "metadata": {
        "colab": {
          "background_save": true
        },
        "id": "LparRCqlBhzO",
        "outputId": "24fd7c89-e44b-4ced-b4a6-0d3c0d780d3e"
      },
      "outputs": [
        {
          "name": "stdout",
          "output_type": "stream",
          "text": [
            "[[ 0  1  2  2  2  3]\n",
            " [ 0  1  4  0  5  3]\n",
            " [12 12  4  6  5  7]\n",
            " [ 8  8  8  6  0  7]\n",
            " [ 9  0  0 10 10 10]\n",
            " [ 9 11 11  0  0  0]]\n",
            "Number of steps: 17\n",
            "Step 1\n",
            "[[ 0  1  2  2  2  3]\n",
            " [ 0  1  4  0  5  3]\n",
            " [12 12  4  6  5  7]\n",
            " [ 8  8  8  6  0  7]\n",
            " [ 9 10 10 10  0  0]\n",
            " [ 9 11 11  0  0  0]]\n",
            "\n",
            "Step 2\n",
            "[[ 0  1  2  2  2  3]\n",
            " [ 0  1  4  0  5  3]\n",
            " [12 12  4  6  5  0]\n",
            " [ 8  8  8  6  0  7]\n",
            " [ 9 10 10 10  0  7]\n",
            " [ 9 11 11  0  0  0]]\n",
            "\n",
            "Step 3\n",
            "[[ 0  1  2  2  2  3]\n",
            " [ 0  1  4  6  5  3]\n",
            " [12 12  4  6  5  0]\n",
            " [ 8  8  8  0  0  7]\n",
            " [ 9 10 10 10  0  7]\n",
            " [ 9 11 11  0  0  0]]\n",
            "\n",
            "Step 4\n",
            "[[ 0  1  2  2  2  0]\n",
            " [ 0  1  4  6  5  3]\n",
            " [12 12  4  6  5  3]\n",
            " [ 8  8  8  0  0  7]\n",
            " [ 9 10 10 10  0  7]\n",
            " [ 9 11 11  0  0  0]]\n",
            "\n",
            "Step 5\n",
            "[[ 0  1  0  2  2  2]\n",
            " [ 0  1  4  6  5  3]\n",
            " [12 12  4  6  5  3]\n",
            " [ 8  8  8  0  0  7]\n",
            " [ 9 10 10 10  0  7]\n",
            " [ 9 11 11  0  0  0]]\n",
            "\n",
            "Step 6\n",
            "[[ 0  1  4  2  2  2]\n",
            " [ 0  1  4  6  5  3]\n",
            " [12 12  0  6  5  3]\n",
            " [ 8  8  8  0  0  7]\n",
            " [ 9 10 10 10  0  7]\n",
            " [ 9 11 11  0  0  0]]\n",
            "\n",
            "Step 7\n",
            "[[ 0  1  4  2  2  2]\n",
            " [ 0  1  4  6  5  3]\n",
            " [ 0 12 12  6  5  3]\n",
            " [ 8  8  8  0  0  7]\n",
            " [ 9 10 10 10  0  7]\n",
            " [ 9 11 11  0  0  0]]\n",
            "\n",
            "Step 8\n",
            "[[ 0  1  4  2  2  2]\n",
            " [ 0  1  4  6  5  3]\n",
            " [ 0 12 12  6  5  3]\n",
            " [ 0  0  8  8  8  7]\n",
            " [ 9 10 10 10  0  7]\n",
            " [ 9 11 11  0  0  0]]\n",
            "\n",
            "Step 9\n",
            "[[ 0  1  4  2  2  2]\n",
            " [ 9  1  4  6  5  3]\n",
            " [ 9 12 12  6  5  3]\n",
            " [ 0  0  8  8  8  7]\n",
            " [ 0 10 10 10  0  7]\n",
            " [ 0 11 11  0  0  0]]\n",
            "\n",
            "Step 10\n",
            "[[ 0  1  4  2  2  2]\n",
            " [ 9  1  4  6  5  3]\n",
            " [ 9 12 12  6  5  3]\n",
            " [ 8  8  8  0  0  7]\n",
            " [ 0 10 10 10  0  7]\n",
            " [ 0 11 11  0  0  0]]\n",
            "\n",
            "Step 11\n",
            "[[ 0  1  4  2  2  2]\n",
            " [ 9  1  4  6  0  3]\n",
            " [ 9 12 12  6  0  3]\n",
            " [ 8  8  8  0  5  7]\n",
            " [ 0 10 10 10  5  7]\n",
            " [ 0 11 11  0  0  0]]\n",
            "\n",
            "Step 12\n",
            "[[ 0  1  4  2  2  2]\n",
            " [ 9  1  4  6  0  3]\n",
            " [ 9 12 12  6  0  3]\n",
            " [ 8  8  8  0  5  7]\n",
            " [10 10 10  0  5  7]\n",
            " [ 0 11 11  0  0  0]]\n",
            "\n",
            "Step 13\n",
            "[[ 0  1  4  2  2  2]\n",
            " [ 9  1  4  0  0  3]\n",
            " [ 9 12 12  0  0  3]\n",
            " [ 8  8  8  6  5  7]\n",
            " [10 10 10  6  5  7]\n",
            " [ 0 11 11  0  0  0]]\n",
            "\n",
            "Step 14\n",
            "[[ 0  1  4  2  2  2]\n",
            " [ 9  1  4  0  0  3]\n",
            " [ 9  0  0 12 12  3]\n",
            " [ 8  8  8  6  5  7]\n",
            " [10 10 10  6  5  7]\n",
            " [ 0 11 11  0  0  0]]\n",
            "\n",
            "Step 15\n",
            "[[ 0  1  0  2  2  2]\n",
            " [ 9  1  4  0  0  3]\n",
            " [ 9  0  4 12 12  3]\n",
            " [ 8  8  8  6  5  7]\n",
            " [10 10 10  6  5  7]\n",
            " [ 0 11 11  0  0  0]]\n",
            "\n",
            "Step 16\n",
            "[[ 0  1  2  2  2  0]\n",
            " [ 9  1  4  0  0  3]\n",
            " [ 9  0  4 12 12  3]\n",
            " [ 8  8  8  6  5  7]\n",
            " [10 10 10  6  5  7]\n",
            " [ 0 11 11  0  0  0]]\n",
            "\n",
            "Step 17\n",
            "[[ 0  1  2  2  2  3]\n",
            " [ 9  1  4  0  0  3]\n",
            " [ 9  0  4 12 12  0]\n",
            " [ 8  8  8  6  5  7]\n",
            " [10 10 10  6  5  7]\n",
            " [ 0 11 11  0  0  0]]\n",
            "\n",
            "Time:  3.2431671619415283\n",
            "Nodes:  1643\n"
          ]
        }
      ],
      "source": [
        "InitState = State(All_Blocks, 0, Func)\n",
        "print(InitState.GameMap)\n",
        "start = time.time()\n",
        "path = []\n",
        "AdjacentStates = {}\n",
        "FinishNode = A_star_search(InitState)\n",
        "\n",
        "Trace()\n",
        "print('Number of steps: %d' %(len(path)))\n",
        "\n",
        "for i in range(len(path) -1, -1, -1):\n",
        "    print('Step %d' % (len(path) - i))\n",
        "    print(path[i])\n",
        "    print()\n",
        "\n",
        "stop = time.time()\n",
        "print('Time: ', stop - start) \n",
        "print('Nodes: ',len(AdjacentStates))"
      ]
    },
    {
      "cell_type": "markdown",
      "metadata": {
        "id": "M9rUtfG0Wpz7"
      },
      "source": [
        "####A* search: solver - Heuristic 3"
      ]
    },
    {
      "cell_type": "code",
      "execution_count": null,
      "metadata": {
        "colab": {
          "background_save": true
        },
        "id": "46gpq2OCWymK"
      },
      "outputs": [],
      "source": [
        "Func = Heuristics3"
      ]
    },
    {
      "cell_type": "code",
      "execution_count": null,
      "metadata": {
        "colab": {
          "background_save": true
        },
        "id": "6ISFyCSMW1FZ",
        "outputId": "f7f6706a-d15b-413d-8c19-7ec16ab7e762"
      },
      "outputs": [
        {
          "name": "stdout",
          "output_type": "stream",
          "text": [
            "[[ 0  1  2  2  2  3]\n",
            " [ 0  1  4  0  5  3]\n",
            " [12 12  4  6  5  7]\n",
            " [ 8  8  8  6  0  7]\n",
            " [ 9  0  0 10 10 10]\n",
            " [ 9 11 11  0  0  0]]\n",
            "Number of steps: 18\n",
            "Step 1\n",
            "[[ 0  1  2  2  2  3]\n",
            " [ 0  1  4  0  5  3]\n",
            " [12 12  4  6  5  7]\n",
            " [ 8  8  8  6  0  7]\n",
            " [ 9 10 10 10  0  0]\n",
            " [ 9 11 11  0  0  0]]\n",
            "\n",
            "Step 2\n",
            "[[ 0  1  2  2  2  3]\n",
            " [ 0  1  4  0  0  3]\n",
            " [12 12  4  6  0  7]\n",
            " [ 8  8  8  6  5  7]\n",
            " [ 9 10 10 10  5  0]\n",
            " [ 9 11 11  0  0  0]]\n",
            "\n",
            "Step 3\n",
            "[[ 0  1  2  2  2  3]\n",
            " [ 0  1  4  0  0  3]\n",
            " [12 12  4  6  0  0]\n",
            " [ 8  8  8  6  5  7]\n",
            " [ 9 10 10 10  5  7]\n",
            " [ 9 11 11  0  0  0]]\n",
            "\n",
            "Step 4\n",
            "[[ 0  1  2  2  2  3]\n",
            " [ 0  1  4  6  0  3]\n",
            " [12 12  4  6  0  0]\n",
            " [ 8  8  8  0  5  7]\n",
            " [ 9 10 10 10  5  7]\n",
            " [ 9 11 11  0  0  0]]\n",
            "\n",
            "Step 5\n",
            "[[ 0  1  2  2  2  3]\n",
            " [ 0  1  4  6  0  3]\n",
            " [12 12  4  6  0  0]\n",
            " [ 0  8  8  8  5  7]\n",
            " [ 9 10 10 10  5  7]\n",
            " [ 9 11 11  0  0  0]]\n",
            "\n",
            "Step 6\n",
            "[[ 0  1  2  2  2  3]\n",
            " [ 0  1  4  6  0  3]\n",
            " [12 12  4  6  0  0]\n",
            " [ 9  8  8  8  5  7]\n",
            " [ 9 10 10 10  5  7]\n",
            " [ 0 11 11  0  0  0]]\n",
            "\n",
            "Step 7\n",
            "[[ 0  1  2  2  2  0]\n",
            " [ 0  1  4  6  0  3]\n",
            " [12 12  4  6  0  3]\n",
            " [ 9  8  8  8  5  7]\n",
            " [ 9 10 10 10  5  7]\n",
            " [ 0 11 11  0  0  0]]\n",
            "\n",
            "Step 8\n",
            "[[ 0  1  0  2  2  2]\n",
            " [ 0  1  4  6  0  3]\n",
            " [12 12  4  6  0  3]\n",
            " [ 9  8  8  8  5  7]\n",
            " [ 9 10 10 10  5  7]\n",
            " [ 0 11 11  0  0  0]]\n",
            "\n",
            "Step 9\n",
            "[[ 0  1  4  2  2  2]\n",
            " [ 0  1  4  6  0  3]\n",
            " [12 12  0  6  0  3]\n",
            " [ 9  8  8  8  5  7]\n",
            " [ 9 10 10 10  5  7]\n",
            " [ 0 11 11  0  0  0]]\n",
            "\n",
            "Step 10\n",
            "[[ 0  1  4  2  2  2]\n",
            " [ 0  1  4  6  0  3]\n",
            " [ 0 12 12  6  0  3]\n",
            " [ 9  8  8  8  5  7]\n",
            " [ 9 10 10 10  5  7]\n",
            " [ 0 11 11  0  0  0]]\n",
            "\n",
            "Step 11\n",
            "[[ 0  1  4  2  2  2]\n",
            " [ 9  1  4  6  0  3]\n",
            " [ 9 12 12  6  0  3]\n",
            " [ 0  8  8  8  5  7]\n",
            " [ 0 10 10 10  5  7]\n",
            " [ 0 11 11  0  0  0]]\n",
            "\n",
            "Step 12\n",
            "[[ 0  1  4  2  2  2]\n",
            " [ 9  1  4  6  0  3]\n",
            " [ 9 12 12  6  0  3]\n",
            " [ 8  8  8  0  5  7]\n",
            " [ 0 10 10 10  5  7]\n",
            " [ 0 11 11  0  0  0]]\n",
            "\n",
            "Step 13\n",
            "[[ 0  1  4  2  2  2]\n",
            " [ 9  1  4  6  0  3]\n",
            " [ 9 12 12  6  0  3]\n",
            " [ 8  8  8  0  5  7]\n",
            " [10 10 10  0  5  7]\n",
            " [ 0 11 11  0  0  0]]\n",
            "\n",
            "Step 14\n",
            "[[ 0  1  4  2  2  2]\n",
            " [ 9  1  4  0  0  3]\n",
            " [ 9 12 12  0  0  3]\n",
            " [ 8  8  8  6  5  7]\n",
            " [10 10 10  6  5  7]\n",
            " [ 0 11 11  0  0  0]]\n",
            "\n",
            "Step 15\n",
            "[[ 0  1  4  2  2  2]\n",
            " [ 9  1  4  0  0  3]\n",
            " [ 9  0  0 12 12  3]\n",
            " [ 8  8  8  6  5  7]\n",
            " [10 10 10  6  5  7]\n",
            " [ 0 11 11  0  0  0]]\n",
            "\n",
            "Step 16\n",
            "[[ 0  1  0  2  2  2]\n",
            " [ 9  1  4  0  0  3]\n",
            " [ 9  0  4 12 12  3]\n",
            " [ 8  8  8  6  5  7]\n",
            " [10 10 10  6  5  7]\n",
            " [ 0 11 11  0  0  0]]\n",
            "\n",
            "Step 17\n",
            "[[ 0  1  2  2  2  0]\n",
            " [ 9  1  4  0  0  3]\n",
            " [ 9  0  4 12 12  3]\n",
            " [ 8  8  8  6  5  7]\n",
            " [10 10 10  6  5  7]\n",
            " [ 0 11 11  0  0  0]]\n",
            "\n",
            "Step 18\n",
            "[[ 0  1  2  2  2  3]\n",
            " [ 9  1  4  0  0  3]\n",
            " [ 9  0  4 12 12  0]\n",
            " [ 8  8  8  6  5  7]\n",
            " [10 10 10  6  5  7]\n",
            " [ 0 11 11  0  0  0]]\n",
            "\n",
            "Time:  1.7153501510620117\n",
            "Nodes:  1100\n"
          ]
        }
      ],
      "source": [
        "InitState = State(All_Blocks, 0, Func)\n",
        "print(InitState.GameMap)\n",
        "start = time.time()\n",
        "path = []\n",
        "AdjacentStates = {}\n",
        "FinishNode = A_star_search(InitState)\n",
        "\n",
        "Trace()\n",
        "print('Number of steps: %d' %(len(path)))\n",
        "\n",
        "for i in range(len(path) -1, -1, -1):\n",
        "    print('Step %d' % (len(path) - i))\n",
        "    print(path[i])\n",
        "    print()\n",
        "\n",
        "stop = time.time()\n",
        "print('Time: ', stop - start) \n",
        "print('Nodes: ',len(AdjacentStates))"
      ]
    },
    {
      "cell_type": "markdown",
      "metadata": {
        "id": "Xy3U7kPXmrIu"
      },
      "source": [
        "###A* search: Analysis"
      ]
    },
    {
      "cell_type": "markdown",
      "metadata": {
        "id": "70MZ43SGY_n4"
      },
      "source": [
        "####A* search: Analysis - Heuristic 1"
      ]
    },
    {
      "cell_type": "code",
      "execution_count": null,
      "metadata": {
        "colab": {
          "background_save": true
        },
        "id": "Mxl--HIiZJay"
      },
      "outputs": [],
      "source": [
        "Func = Heuristics1"
      ]
    },
    {
      "cell_type": "code",
      "execution_count": null,
      "metadata": {
        "colab": {
          "background_save": true
        },
        "id": "w9Q5GN5A4eoZ",
        "outputId": "825312de-2646-4d2d-b3a3-510ac8d16a46"
      },
      "outputs": [
        {
          "name": "stdout",
          "output_type": "stream",
          "text": [
            "Map: 11  Number of steps: 02  Fringe nodes: 00092   Time: 0.06842 sec\n",
            "Map: 12  Number of steps: 02  Fringe nodes: 00148   Time: 0.09031 sec\n",
            "Map: 13  Number of steps: 02  Fringe nodes: 00091   Time: 0.05412 sec\n",
            "Map: 14  Number of steps: 02  Fringe nodes: 00059   Time: 0.02830 sec\n",
            "Map: 15  Number of steps: 02  Fringe nodes: 00149   Time: 0.09866 sec\n",
            "Map: 16  Number of steps: 04  Fringe nodes: 00417   Time: 0.54542 sec\n",
            "Map: 17  Number of steps: 04  Fringe nodes: 00202   Time: 0.24859 sec\n",
            "Map: 18  Number of steps: 04  Fringe nodes: 00045   Time: 0.05427 sec\n",
            "Map: 19  Number of steps: 05  Fringe nodes: 00104   Time: 0.09819 sec\n",
            "Map: 20  Number of steps: 04  Fringe nodes: 00035   Time: 0.02893 sec\n",
            "Map: 21  Number of steps: 04  Fringe nodes: 01089   Time: 1.07284 sec\n",
            "Map: 22  Number of steps: 04  Fringe nodes: 00052   Time: 0.02877 sec\n",
            "Map: 23  Number of steps: 04  Fringe nodes: 00340   Time: 0.29667 sec\n",
            "Map: 24  Number of steps: 04  Fringe nodes: 00075   Time: 0.05402 sec\n",
            "Map: 25  Number of steps: 04  Fringe nodes: 00049   Time: 0.04293 sec\n",
            "Map: 26  Number of steps: 04  Fringe nodes: 00020   Time: 0.01746 sec\n",
            "Map: 27  Number of steps: 06  Fringe nodes: 00064   Time: 0.05761 sec\n",
            "Map: 28  Number of steps: 04  Fringe nodes: 00064   Time: 0.07569 sec\n",
            "Map: 29  Number of steps: 06  Fringe nodes: 00158   Time: 0.17307 sec\n",
            "Map: 30  Number of steps: 05  Fringe nodes: 00643   Time: 0.65956 sec\n",
            "Map: 31  Number of steps: 15  Fringe nodes: 01282   Time: 2.19134 sec\n",
            "Map: 32  Number of steps: 17  Fringe nodes: 00185   Time: 0.26531 sec\n",
            "Map: 33  Number of steps: 14  Fringe nodes: 01400   Time: 2.32640 sec\n",
            "Map: 34  Number of steps: 15  Fringe nodes: 01741   Time: 3.21748 sec\n",
            "Map: 35  Number of steps: 17  Fringe nodes: 01586   Time: 3.46422 sec\n",
            "Map: 36  Number of steps: 14  Fringe nodes: 00076   Time: 0.09045 sec\n",
            "Map: 37  Number of steps: 14  Fringe nodes: 00791   Time: 1.31655 sec\n",
            "Map: 38  Number of steps: 17  Fringe nodes: 04760   Time: 12.08941 sec\n",
            "Map: 39  Number of steps: 18  Fringe nodes: 02335   Time: 4.87031 sec\n",
            "Map: 40  Number of steps: 17  Fringe nodes: 06695   Time: 16.98836 sec\n",
            "Map: 41  Number of steps: 20  Fringe nodes: 01897   Time: 3.78387 sec\n",
            "Map: 42  Number of steps: 22  Fringe nodes: 01003   Time: 1.66634 sec\n",
            "Map: 43  Number of steps: 21  Fringe nodes: 04770   Time: 10.88692 sec\n",
            "Map: 44  Number of steps: 22  Fringe nodes: 40265   Time: 124.31216 sec\n",
            "Map: 45  Number of steps: 20  Fringe nodes: 05911   Time: 14.26803 sec\n",
            "Map: 46  Number of steps: 21  Fringe nodes: 01928   Time: 3.81415 sec\n",
            "Map: 47  Number of steps: 08  Fringe nodes: 00975   Time: 1.05453 sec\n",
            "Map: 48  Number of steps: 11  Fringe nodes: 00805   Time: 1.49483 sec\n",
            "Map: 49  Number of steps: 18  Fringe nodes: 00556   Time: 0.82989 sec\n",
            "Map: 50  Number of steps: 05  Fringe nodes: 01029   Time: 1.03250 sec\n",
            "Map: 51  Number of steps: 05  Fringe nodes: 00503   Time: 0.43416 sec\n",
            "Map: 52  Number of steps: 09  Fringe nodes: 01035   Time: 1.65393 sec\n",
            "Map: 53  Number of steps: 09  Fringe nodes: 01826   Time: 3.95910 sec\n",
            "Map: 54  Number of steps: 10  Fringe nodes: 00876   Time: 1.55933 sec\n",
            "Map: 55  Number of steps: 10  Fringe nodes: 02240   Time: 4.28929 sec\n"
          ]
        }
      ],
      "source": [
        "import time\n",
        "for Tag in range(11, 56):\n",
        "    _, All_Blocks = read_input('testcases/inp%d.txt' % Tag)\n",
        "    _, FinishAllBlocks = read_input('testcases/inp%d_2.txt' % Tag)\n",
        "    AdjacentStates = {}\n",
        "    path = []\n",
        "    InitState = State(All_Blocks, 0, Func)\n",
        "\n",
        "    #print(InitState.GameMap)\n",
        "    start = time.time()\n",
        "\n",
        "    Success = True\n",
        "    FinishState = State(FinishAllBlocks)\n",
        "    FinishNode = A_star_search(InitState)\n",
        "    Trace()\n",
        "    stop = time.time() \n",
        "    print('Map: %i  Number of steps: %02d  Fringe nodes: %05d   Time: %s sec' %(Tag, len(path), len(AdjacentStates), '{:.5f}'.format(stop-start)))"
      ]
    },
    {
      "cell_type": "markdown",
      "metadata": {
        "id": "Vhdx5W_ZAIWZ"
      },
      "source": [
        "####A* search: Analysis - Heuristic 2"
      ]
    },
    {
      "cell_type": "code",
      "execution_count": null,
      "metadata": {
        "colab": {
          "background_save": true
        },
        "id": "z0WPcQxWZZ_Q"
      },
      "outputs": [],
      "source": [
        "Func = Heuristics2"
      ]
    },
    {
      "cell_type": "code",
      "execution_count": null,
      "metadata": {
        "colab": {
          "background_save": true
        },
        "id": "lV8WHjiwZniw",
        "outputId": "912a8110-a260-4bc9-9848-f8e3c9e8fb13"
      },
      "outputs": [
        {
          "name": "stdout",
          "output_type": "stream",
          "text": [
            "Map: 11  Number of steps: 02  Fringe nodes: 00023   Time: 0.01166 sec\n",
            "Map: 12  Number of steps: 02  Fringe nodes: 00036   Time: 0.01642 sec\n",
            "Map: 13  Number of steps: 02  Fringe nodes: 00025   Time: 0.01196 sec\n",
            "Map: 14  Number of steps: 02  Fringe nodes: 00036   Time: 0.01621 sec\n",
            "Map: 15  Number of steps: 02  Fringe nodes: 00022   Time: 0.01029 sec\n",
            "Map: 16  Number of steps: 04  Fringe nodes: 00108   Time: 0.06679 sec\n",
            "Map: 17  Number of steps: 04  Fringe nodes: 00032   Time: 0.01613 sec\n",
            "Map: 18  Number of steps: 04  Fringe nodes: 00015   Time: 0.00865 sec\n",
            "Map: 19  Number of steps: 04  Fringe nodes: 00023   Time: 0.01471 sec\n",
            "Map: 20  Number of steps: 04  Fringe nodes: 00019   Time: 0.01316 sec\n",
            "Map: 21  Number of steps: 04  Fringe nodes: 00074   Time: 0.04458 sec\n",
            "Map: 22  Number of steps: 04  Fringe nodes: 00061   Time: 0.03642 sec\n",
            "Map: 23  Number of steps: 04  Fringe nodes: 00063   Time: 0.03234 sec\n",
            "Map: 24  Number of steps: 04  Fringe nodes: 00031   Time: 0.02021 sec\n",
            "Map: 25  Number of steps: 04  Fringe nodes: 00011   Time: 0.00764 sec\n",
            "Map: 26  Number of steps: 04  Fringe nodes: 00014   Time: 0.00819 sec\n",
            "Map: 27  Number of steps: 06  Fringe nodes: 00048   Time: 0.03265 sec\n",
            "Map: 28  Number of steps: 04  Fringe nodes: 00036   Time: 0.03210 sec\n",
            "Map: 29  Number of steps: 06  Fringe nodes: 00056   Time: 0.04010 sec\n",
            "Map: 30  Number of steps: 05  Fringe nodes: 00051   Time: 0.02613 sec\n",
            "Map: 31  Number of steps: 15  Fringe nodes: 00899   Time: 1.63392 sec\n",
            "Map: 32  Number of steps: 17  Fringe nodes: 00160   Time: 0.23854 sec\n",
            "Map: 33  Number of steps: 14  Fringe nodes: 00855   Time: 1.34691 sec\n",
            "Map: 34  Number of steps: 15  Fringe nodes: 01012   Time: 1.96921 sec\n",
            "Map: 35  Number of steps: 17  Fringe nodes: 00416   Time: 0.45083 sec\n",
            "Map: 36  Number of steps: 15  Fringe nodes: 00061   Time: 0.05966 sec\n",
            "Map: 37  Number of steps: 15  Fringe nodes: 00539   Time: 0.81547 sec\n",
            "Map: 38  Number of steps: 17  Fringe nodes: 04097   Time: 9.62346 sec\n",
            "Map: 39  Number of steps: 18  Fringe nodes: 01858   Time: 4.07007 sec\n",
            "Map: 40  Number of steps: 17  Fringe nodes: 01643   Time: 3.16426 sec\n",
            "Map: 41  Number of steps: 21  Fringe nodes: 00269   Time: 0.36116 sec\n",
            "Map: 42  Number of steps: 21  Fringe nodes: 00712   Time: 1.12679 sec\n",
            "Map: 43  Number of steps: 22  Fringe nodes: 03865   Time: 8.00052 sec\n",
            "Map: 44  Number of steps: 22  Fringe nodes: 25597   Time: 56.62672 sec\n",
            "Map: 45  Number of steps: 20  Fringe nodes: 04262   Time: 7.24365 sec\n",
            "Map: 46  Number of steps: 20  Fringe nodes: 01237   Time: 2.15861 sec\n",
            "Map: 47  Number of steps: 08  Fringe nodes: 00053   Time: 0.03719 sec\n",
            "Map: 48  Number of steps: 11  Fringe nodes: 00242   Time: 0.17913 sec\n",
            "Map: 49  Number of steps: 19  Fringe nodes: 00422   Time: 0.63415 sec\n",
            "Map: 50  Number of steps: 05  Fringe nodes: 00087   Time: 0.04777 sec\n",
            "Map: 51  Number of steps: 05  Fringe nodes: 00091   Time: 0.04837 sec\n",
            "Map: 52  Number of steps: 08  Fringe nodes: 00115   Time: 0.08440 sec\n",
            "Map: 53  Number of steps: 09  Fringe nodes: 00111   Time: 0.06892 sec\n",
            "Map: 54  Number of steps: 10  Fringe nodes: 00193   Time: 0.13672 sec\n",
            "Map: 55  Number of steps: 10  Fringe nodes: 01007   Time: 1.38423 sec\n"
          ]
        }
      ],
      "source": [
        "import time\n",
        "for Tag in range(11, 56):\n",
        "    _, All_Blocks = read_input('testcases/inp%d.txt' % Tag)\n",
        "    _, FinishAllBlocks = read_input('testcases/inp%d_2.txt' % Tag)\n",
        "    AdjacentStates = {}\n",
        "    path = []\n",
        "    InitState = State(All_Blocks, 0, Func)\n",
        "\n",
        "    #print(InitState.GameMap)\n",
        "    start = time.time()\n",
        "\n",
        "    Success = True\n",
        "    FinishState = State(FinishAllBlocks)\n",
        "    FinishNode = A_star_search(InitState)\n",
        "    Trace()\n",
        "    stop = time.time() \n",
        "    print('Map: %i  Number of steps: %02d  Fringe nodes: %05d   Time: %s sec' %(Tag, len(path), len(AdjacentStates), '{:.5f}'.format(stop-start)))"
      ]
    },
    {
      "cell_type": "markdown",
      "metadata": {
        "id": "kvWO0sz8Zdii"
      },
      "source": [
        "####A* search: Analysis - Heuristic 3"
      ]
    },
    {
      "cell_type": "code",
      "execution_count": null,
      "metadata": {
        "colab": {
          "background_save": true
        },
        "id": "v4iQCdPeZswm"
      },
      "outputs": [],
      "source": [
        "Func = Heuristics3"
      ]
    },
    {
      "cell_type": "code",
      "execution_count": null,
      "metadata": {
        "colab": {
          "background_save": true
        },
        "id": "U6xjOTNgZvHf",
        "outputId": "673006df-9c88-48c6-8e5e-c82923bd6d57"
      },
      "outputs": [
        {
          "name": "stdout",
          "output_type": "stream",
          "text": [
            "Map: 11  Number of steps: 02  Fringe nodes: 00017   Time: 0.01141 sec\n",
            "Map: 12  Number of steps: 02  Fringe nodes: 00036   Time: 0.01717 sec\n",
            "Map: 13  Number of steps: 02  Fringe nodes: 00025   Time: 0.01124 sec\n",
            "Map: 14  Number of steps: 02  Fringe nodes: 00036   Time: 0.01655 sec\n",
            "Map: 15  Number of steps: 02  Fringe nodes: 00022   Time: 0.01021 sec\n",
            "Map: 16  Number of steps: 04  Fringe nodes: 00107   Time: 0.06880 sec\n",
            "Map: 17  Number of steps: 04  Fringe nodes: 00032   Time: 0.01605 sec\n",
            "Map: 18  Number of steps: 04  Fringe nodes: 00015   Time: 0.00944 sec\n",
            "Map: 19  Number of steps: 04  Fringe nodes: 00023   Time: 0.01546 sec\n",
            "Map: 20  Number of steps: 04  Fringe nodes: 00025   Time: 0.01277 sec\n",
            "Map: 21  Number of steps: 05  Fringe nodes: 00101   Time: 0.05368 sec\n",
            "Map: 22  Number of steps: 04  Fringe nodes: 00037   Time: 0.01874 sec\n",
            "Map: 23  Number of steps: 04  Fringe nodes: 00057   Time: 0.02945 sec\n",
            "Map: 24  Number of steps: 04  Fringe nodes: 00026   Time: 0.01382 sec\n",
            "Map: 25  Number of steps: 04  Fringe nodes: 00011   Time: 0.00726 sec\n",
            "Map: 26  Number of steps: 04  Fringe nodes: 00014   Time: 0.00870 sec\n",
            "Map: 27  Number of steps: 07  Fringe nodes: 00035   Time: 0.01981 sec\n",
            "Map: 28  Number of steps: 04  Fringe nodes: 00041   Time: 0.03089 sec\n",
            "Map: 29  Number of steps: 06  Fringe nodes: 00056   Time: 0.03374 sec\n",
            "Map: 30  Number of steps: 05  Fringe nodes: 00040   Time: 0.02145 sec\n",
            "Map: 31  Number of steps: 18  Fringe nodes: 00963   Time: 1.69979 sec\n",
            "Map: 32  Number of steps: 18  Fringe nodes: 00157   Time: 0.22190 sec\n",
            "Map: 33  Number of steps: 15  Fringe nodes: 00620   Time: 0.76585 sec\n",
            "Map: 34  Number of steps: 17  Fringe nodes: 00904   Time: 1.57304 sec\n",
            "Map: 35  Number of steps: 21  Fringe nodes: 00285   Time: 0.34768 sec\n",
            "Map: 36  Number of steps: 16  Fringe nodes: 00062   Time: 0.05526 sec\n",
            "Map: 37  Number of steps: 16  Fringe nodes: 00458   Time: 0.57205 sec\n",
            "Map: 38  Number of steps: 19  Fringe nodes: 01338   Time: 1.46434 sec\n",
            "Map: 39  Number of steps: 22  Fringe nodes: 01563   Time: 2.38871 sec\n",
            "Map: 40  Number of steps: 18  Fringe nodes: 01100   Time: 1.68743 sec\n",
            "Map: 41  Number of steps: 23  Fringe nodes: 00271   Time: 0.35117 sec\n",
            "Map: 42  Number of steps: 21  Fringe nodes: 00684   Time: 1.06493 sec\n",
            "Map: 43  Number of steps: 24  Fringe nodes: 00619   Time: 0.60939 sec\n",
            "Map: 44  Number of steps: 22  Fringe nodes: 07102   Time: 11.21388 sec\n",
            "Map: 45  Number of steps: 23  Fringe nodes: 02400   Time: 3.92092 sec\n",
            "Map: 46  Number of steps: 24  Fringe nodes: 01055   Time: 1.59266 sec\n",
            "Map: 47  Number of steps: 08  Fringe nodes: 00046   Time: 0.02925 sec\n",
            "Map: 48  Number of steps: 11  Fringe nodes: 00097   Time: 0.05165 sec\n",
            "Map: 49  Number of steps: 21  Fringe nodes: 00389   Time: 0.59016 sec\n",
            "Map: 50  Number of steps: 06  Fringe nodes: 00129   Time: 0.07058 sec\n",
            "Map: 51  Number of steps: 05  Fringe nodes: 00063   Time: 0.03354 sec\n",
            "Map: 52  Number of steps: 08  Fringe nodes: 00104   Time: 0.11520 sec\n",
            "Map: 53  Number of steps: 10  Fringe nodes: 00167   Time: 0.09422 sec\n",
            "Map: 54  Number of steps: 10  Fringe nodes: 00081   Time: 0.04614 sec\n",
            "Map: 55  Number of steps: 11  Fringe nodes: 01307   Time: 1.67323 sec\n"
          ]
        }
      ],
      "source": [
        "import time\n",
        "for Tag in range(11, 56):\n",
        "    _, All_Blocks = read_input('testcases/inp%d.txt' % Tag)\n",
        "    _, FinishAllBlocks = read_input('testcases/inp%d_2.txt' % Tag)\n",
        "    AdjacentStates = {}\n",
        "    path = []\n",
        "    InitState = State(All_Blocks, 0, Func)\n",
        "\n",
        "    #print(InitState.GameMap)\n",
        "    start = time.time()\n",
        "\n",
        "    Success = True\n",
        "    FinishState = State(FinishAllBlocks)\n",
        "    FinishNode = A_star_search(InitState)\n",
        "    Trace()\n",
        "    stop = time.time() \n",
        "    print('Map: %i  Number of steps: %02d  Fringe nodes: %05d   Time: %s sec' %(Tag, len(path), len(AdjacentStates), '{:.5f}'.format(stop-start)))"
      ]
    },
    {
      "cell_type": "markdown",
      "metadata": {
        "id": "ZclTn0-fefx-"
      },
      "source": [
        "####A* search: Analysis - Heuristic 3.5 - Math form<br>\n",
        "Firstly we need to reinitialize `State` class"
      ]
    },
    {
      "cell_type": "code",
      "execution_count": null,
      "metadata": {
        "colab": {
          "background_save": true
        },
        "id": "9u6VaC8QekvF"
      },
      "outputs": [],
      "source": [
        "class State():\n",
        "    def __init__(self, AllBlocks, InitCost = 0, Func = None):\n",
        "        self.AllBlocks = AllBlocks\n",
        "        self.GameMap = Map()\n",
        "        for block in self.AllBlocks:\n",
        "            self.GameMap.add_block(block)\n",
        "        self.InitCost = InitCost\n",
        "        self.Eval = None\n",
        "        self.Func = Func\n",
        "        self.GetEvaluation()\n",
        "\n",
        "        Block.restartTag()\n",
        "        \n",
        "    def __lt__(self, other):\n",
        "        return self.Eval < other.Eval\n",
        "    def __gt__(self, other):\n",
        "        return self.Eval > other.Eval\n",
        "    def __eq__(self, other):    \n",
        "        return self.Eval == other.Eval\n",
        "    \n",
        "    def GetEvaluation(self):\n",
        "        if self.Func != None:\n",
        "            self.Eval = self.InitCost + self.Func(self)\n",
        "        else: \n",
        "            self.Eval = self.InitCost \n",
        "        \n",
        "    def GetMap(self):\n",
        "        return self.GameMap\n",
        "    \n",
        "    def GetNextMoves(self):\n",
        "        All_Moves_list = []\n",
        "        a = self.GetMap()\n",
        "        for blk in self.AllBlocks:\n",
        "            All_Moves_list += a.possible_move(blk)\n",
        "        return All_Moves_list\n",
        "\n",
        "    def Display(self):\n",
        "        return self.GameMap.__str__()\n",
        "    \n",
        "    def NextState(self, move):\n",
        "        New = []\n",
        "        for block in self.AllBlocks:\n",
        "            TempBlock = copy.copy(block)\n",
        "            if TempBlock.indx == move[2]:\n",
        "                TempBlock.move(move[0], move[1])\n",
        "            New.append(TempBlock)\n",
        "        return State(New, self.InitCost + move[0] , self.Func)"
      ]
    },
    {
      "cell_type": "markdown",
      "metadata": {
        "id": "2FuHYdwae4g-"
      },
      "source": [
        "Now there's some analysis"
      ]
    },
    {
      "cell_type": "code",
      "execution_count": null,
      "metadata": {
        "colab": {
          "background_save": true
        },
        "id": "1aIwHVPxfrPl"
      },
      "outputs": [],
      "source": [
        "Func = Heuristics3"
      ]
    },
    {
      "cell_type": "code",
      "execution_count": null,
      "metadata": {
        "colab": {
          "background_save": true
        },
        "id": "9yXnTqfle3wG",
        "outputId": "fe20fc75-101e-4bbb-8ac9-d759c6192fa3"
      },
      "outputs": [
        {
          "name": "stdout",
          "output_type": "stream",
          "text": [
            "Map: 11  Number of steps: 02  Fringe nodes: 00030   Time: 0.01631 sec\n",
            "Map: 12  Number of steps: 02  Fringe nodes: 00036   Time: 0.01622 sec\n",
            "Map: 13  Number of steps: 02  Fringe nodes: 00025   Time: 0.01145 sec\n",
            "Map: 14  Number of steps: 02  Fringe nodes: 00036   Time: 0.01630 sec\n",
            "Map: 15  Number of steps: 02  Fringe nodes: 00033   Time: 0.01510 sec\n",
            "Map: 16  Number of steps: 04  Fringe nodes: 00107   Time: 0.06857 sec\n",
            "Map: 17  Number of steps: 04  Fringe nodes: 00032   Time: 0.01613 sec\n",
            "Map: 18  Number of steps: 04  Fringe nodes: 00015   Time: 0.00865 sec\n",
            "Map: 19  Number of steps: 04  Fringe nodes: 00028   Time: 0.01553 sec\n",
            "Map: 20  Number of steps: 05  Fringe nodes: 00032   Time: 0.01876 sec\n",
            "Map: 21  Number of steps: 04  Fringe nodes: 00275   Time: 0.16467 sec\n",
            "Map: 22  Number of steps: 04  Fringe nodes: 00161   Time: 0.11039 sec\n",
            "Map: 23  Number of steps: 04  Fringe nodes: 00084   Time: 0.04572 sec\n",
            "Map: 24  Number of steps: 04  Fringe nodes: 00049   Time: 0.03641 sec\n",
            "Map: 25  Number of steps: 04  Fringe nodes: 00011   Time: 0.01059 sec\n",
            "Map: 26  Number of steps: 04  Fringe nodes: 00016   Time: 0.00961 sec\n",
            "Map: 27  Number of steps: 06  Fringe nodes: 00105   Time: 0.09779 sec\n",
            "Map: 28  Number of steps: 04  Fringe nodes: 00035   Time: 0.02676 sec\n",
            "Map: 29  Number of steps: 06  Fringe nodes: 00063   Time: 0.04253 sec\n",
            "Map: 30  Number of steps: 05  Fringe nodes: 00077   Time: 0.04619 sec\n",
            "Map: 31  Number of steps: 19  Fringe nodes: 01108   Time: 1.89478 sec\n",
            "Map: 32  Number of steps: 21  Fringe nodes: 00202   Time: 0.27443 sec\n",
            "Map: 33  Number of steps: 17  Fringe nodes: 00968   Time: 1.63496 sec\n",
            "Map: 34  Number of steps: 17  Fringe nodes: 00998   Time: 1.74272 sec\n",
            "Map: 35  Number of steps: 21  Fringe nodes: 00894   Time: 0.85350 sec\n",
            "Map: 36  Number of steps: 17  Fringe nodes: 00071   Time: 0.06866 sec\n",
            "Map: 37  Number of steps: 18  Fringe nodes: 00507   Time: 0.76210 sec\n",
            "Map: 38  Number of steps: 22  Fringe nodes: 03857   Time: 7.83366 sec\n",
            "Map: 39  Number of steps: 26  Fringe nodes: 01978   Time: 4.23796 sec\n",
            "Map: 40  Number of steps: 18  Fringe nodes: 01495   Time: 2.31325 sec\n",
            "Map: 41  Number of steps: 24  Fringe nodes: 00419   Time: 0.45659 sec\n",
            "Map: 42  Number of steps: 26  Fringe nodes: 00815   Time: 1.26667 sec\n",
            "Map: 43  Number of steps: 26  Fringe nodes: 03202   Time: 5.02895 sec\n",
            "Map: 44  Number of steps: 26  Fringe nodes: 14565   Time: 24.85461 sec\n",
            "Map: 45  Number of steps: 25  Fringe nodes: 02598   Time: 4.34769 sec\n",
            "Map: 46  Number of steps: 23  Fringe nodes: 01411   Time: 2.69435 sec\n",
            "Map: 47  Number of steps: 10  Fringe nodes: 00078   Time: 0.05168 sec\n",
            "Map: 48  Number of steps: 13  Fringe nodes: 00334   Time: 0.23157 sec\n",
            "Map: 49  Number of steps: 21  Fringe nodes: 00486   Time: 0.68959 sec\n",
            "Map: 50  Number of steps: 06  Fringe nodes: 00152   Time: 0.08535 sec\n",
            "Map: 51  Number of steps: 05  Fringe nodes: 00108   Time: 0.05740 sec\n",
            "Map: 52  Number of steps: 08  Fringe nodes: 00134   Time: 0.09292 sec\n",
            "Map: 53  Number of steps: 09  Fringe nodes: 00463   Time: 0.32576 sec\n",
            "Map: 54  Number of steps: 10  Fringe nodes: 00365   Time: 0.33142 sec\n",
            "Map: 55  Number of steps: 13  Fringe nodes: 02648   Time: 4.82654 sec\n"
          ]
        }
      ],
      "source": [
        "import time\n",
        "for Tag in range(11, 56):\n",
        "    _, All_Blocks = read_input('testcases/inp%d.txt' % Tag)\n",
        "    _, FinishAllBlocks = read_input('testcases/inp%d_2.txt' % Tag)\n",
        "    AdjacentStates = {}\n",
        "    path = []\n",
        "    InitState = State(All_Blocks, 0, Func)\n",
        "\n",
        "    #print(InitState.GameMap)\n",
        "    start = time.time()\n",
        "\n",
        "    Success = True\n",
        "    FinishState = State(FinishAllBlocks)\n",
        "    FinishNode = A_star_search(InitState)\n",
        "    Trace()\n",
        "    stop = time.time() \n",
        "    print('Map: %i  Number of steps: %02d  Fringe nodes: %05d   Time: %s sec' %(Tag, len(path), len(AdjacentStates), '{:.5f}'.format(stop-start)))"
      ]
    },
    {
      "cell_type": "markdown",
      "metadata": {
        "id": "tugpOv5QesCs"
      },
      "source": [
        "#Appendix A. Randomize Map<br>\n",
        "The method we intended to use is to initialize a map instance, and then move the blocks randomly for a number of times.<br>\n",
        "We would compare the result when we successfully generated the map."
      ]
    },
    {
      "cell_type": "markdown",
      "metadata": {
        "id": "6sC3Bwakon3m"
      },
      "source": [
        "## Re-Implement classes"
      ]
    },
    {
      "cell_type": "code",
      "execution_count": null,
      "metadata": {
        "colab": {
          "background_save": true
        },
        "id": "OqSYO8AWjNQi"
      },
      "outputs": [],
      "source": [
        "class Block:\n",
        "    \"\"\"\n",
        "    x range from 0 to 5\n",
        "    y range from 0 to 5\n",
        "    \"\"\" \n",
        "    def __init__(self, x, y, direction, length):\n",
        "        global index\n",
        "        self.start_point_x = x\n",
        "        self.start_point_y = y\n",
        "        self.direction = direction\n",
        "        self.length = length\n",
        "        self.indx = index\n",
        "        index += 1          #when you initialize next item, its index will raise\n",
        "        \n",
        "    def __str__(self):\n",
        "        a = 'start_point_x = %d\\\n",
        "        start_point_y = %d\\\n",
        "        direction = %s\\\n",
        "        length = %d\\\n",
        "        index  = %d'\\\n",
        "            % (int(self.start_point_x),\\\n",
        "            int(self.start_point_y),\\\n",
        "            self.direction,\\\n",
        "            int(self.length),\\\n",
        "            int(self.indx))\n",
        "        return a\n",
        "\n",
        "    def move(self, step, direct):\n",
        "        \"\"\"\n",
        "        :param step: int\n",
        "        :param direct: -1/+1\n",
        "        :return: new block\n",
        "        \"\"\"\n",
        "        if self.direction == \"h\":\n",
        "            self.start_point_x += step * direct\n",
        "        if self.direction == \"v\":\n",
        "            self.start_point_y += step * direct"
      ]
    },
    {
      "cell_type": "code",
      "execution_count": null,
      "metadata": {
        "colab": {
          "background_save": true
        },
        "id": "XatP2bnAjOBZ"
      },
      "outputs": [],
      "source": [
        "class Map:\n",
        "    def __init__(self):\n",
        "        self.map = np.array([[0 for i in range(6)] for i in range(6)])\n",
        "\n",
        "    def __str__(self):\n",
        "        return str(self.map)\n",
        "\n",
        "    def add_block(self, blk):\n",
        "        x, y, direction, length, index = (\n",
        "            blk.start_point_x,\n",
        "            blk.start_point_y,\n",
        "            blk.direction,\n",
        "            blk.length,\n",
        "            blk.indx,\n",
        "        )\n",
        "        if direction == \"h\":\n",
        "            for i in range(length):\n",
        "                self.map[y][x + i] = index\n",
        "        if direction == \"v\":\n",
        "            for i in range(length):\n",
        "                self.map[y + i][x] = index\n",
        "        \n",
        "    def possible_move(self, blk):\n",
        "        x, y, direction, length, index = (\n",
        "            blk.start_point_x,\n",
        "            blk.start_point_y,\n",
        "            blk.direction,\n",
        "            blk.length,\n",
        "            blk.indx\n",
        "        )\n",
        "        move_list = []\n",
        "        if direction == \"v\":\n",
        "            if y == 0:\n",
        "                up = 0\n",
        "            else:\n",
        "                for up in range(1, y + 1):\n",
        "                    if self.map[y - up][x] != 0:\n",
        "                        up -= 1\n",
        "                        break\n",
        "                    else:\n",
        "                        move_list.append((up, -1, index))    \n",
        "                        \n",
        "            if y + length == 6:\n",
        "                down = 0\n",
        "            else:\n",
        "                for down in range(1, 7 - y - length):\n",
        "                    if self.map[y + length + down - 1][x] != 0:\n",
        "                        down -= 1\n",
        "                        break\n",
        "                    else:\n",
        "                        move_list.append((down, +1, index))\n",
        "\n",
        "        if direction == \"h\":\n",
        "            if x == 0:\n",
        "                left = 0\n",
        "            else:\n",
        "                for left in range(1, x + 1):\n",
        "                    if self.map[y][x - left] != 0:\n",
        "                        left -= 1\n",
        "                        break\n",
        "                    else:\n",
        "                        move_list.append((left, -1, index))\n",
        "            if x + length == 6:\n",
        "                right = 0\n",
        "            else:\n",
        "                for right in range(1, 7 - x - length):\n",
        "                    if self.map[y][x + length + right - 1] != 0:\n",
        "                        right -= 1\n",
        "                        break\n",
        "                    else:\n",
        "                        move_list.append((right, +1, index))\n",
        "        return move_list"
      ]
    },
    {
      "cell_type": "code",
      "execution_count": null,
      "metadata": {
        "colab": {
          "background_save": true
        },
        "id": "i7WF-AnYjWPx"
      },
      "outputs": [],
      "source": [
        "class State():\n",
        "    def __init__(self, AllBlocks):\n",
        "        self.AllBlocks = AllBlocks\n",
        "        self.GameMap = Map()\n",
        "        for block in self.AllBlocks:\n",
        "            self.GameMap.add_block(block)  \n",
        "    def GetMap(self):\n",
        "        return self.GameMap\n",
        "    \n",
        "    def GetNextMoves(self):\n",
        "        All_Moves_list = []\n",
        "        a = self.GetMap()\n",
        "        for blk in self.AllBlocks:\n",
        "            All_Moves_list += a.possible_move(blk)\n",
        "        return All_Moves_list\n",
        "\n",
        "    def Display(self):\n",
        "        return self.GameMap.__str__()\n",
        "    \n",
        "    def NextStates(self, move):\n",
        "        New = []\n",
        "        for block in self.AllBlocks:\n",
        "            TempBlock = copy.copy(block)\n",
        "            if TempBlock.indx == move[2]:\n",
        "                TempBlock.move(move[1], move[0])\n",
        "            New.append(TempBlock)\n",
        "        return State(New)"
      ]
    },
    {
      "cell_type": "markdown",
      "metadata": {
        "id": "alTnrsMkouMX"
      },
      "source": [
        "##Randomizer and testing with Breadth-first search"
      ]
    },
    {
      "cell_type": "code",
      "execution_count": null,
      "metadata": {
        "colab": {
          "background_save": true
        },
        "id": "n_bmDJMEm2n2"
      },
      "outputs": [],
      "source": [
        "def Goal_state(node):\n",
        "    start = node.AllBlocks[-1].start_point_x\n",
        "    if sum(node.GameMap.map[2, start: 6]) == node.AllBlocks[-1].indx * node.AllBlocks[-1].length:\n",
        "        return True\n",
        "    return False\n",
        "\n",
        "def SuccGen(CurrState): \n",
        "    ChildLst = []\n",
        "    for move in CurrState.GetNextMoves():\n",
        "        NextState = CurrState.NextStates(move)\n",
        "        if NextState.GameMap.__str__() not in AdjacentStates:\n",
        "            AdjacentStates[NextState.GameMap.__str__()] = CurrState.GameMap.__str__()\n",
        "            ChildLst.append(NextState)    \n",
        "    return ChildLst\n",
        "\n",
        "def Trace():\n",
        "    CurrPos = FinishNode\n",
        "    while CurrPos != InitState.GameMap.__str__():\n",
        "        path.append(CurrPos)\n",
        "        CurrPos = AdjacentStates[CurrPos]\n",
        "        \n",
        "def BFS(root):\n",
        "    if Goal_state(root):\n",
        "        return 'Already goal'\n",
        "    else:\n",
        "        Queue = SuccGen(root)\n",
        "        while len(Queue) != 0:\n",
        "            CurrNode = Queue.pop(0)\n",
        "            if Goal_state(CurrNode):\n",
        "                return CurrNode.GameMap.__str__()\n",
        "            else:\n",
        "                for ChildNode in SuccGen(CurrNode):\n",
        "                    Queue.append(ChildNode)\n",
        "        return 'Failure'"
      ]
    },
    {
      "cell_type": "markdown",
      "metadata": {
        "id": "XBmZ5VAgozPO"
      },
      "source": [
        "###Simple randomizer"
      ]
    },
    {
      "cell_type": "code",
      "execution_count": null,
      "metadata": {
        "colab": {
          "background_save": true
        },
        "id": "KimXtGUdo6CN"
      },
      "outputs": [],
      "source": [
        "import random as rd\n",
        "Tag = 29"
      ]
    },
    {
      "cell_type": "code",
      "execution_count": null,
      "metadata": {
        "colab": {
          "background_save": true
        },
        "id": "yl9eHBYNeyQz"
      },
      "outputs": [],
      "source": [
        "def map_randomizer(Tag):\n",
        "    global index\n",
        "    index = 1\n",
        "    _, All_Blocks = read_input('testcases/inp%02d.txt' % Tag)\n",
        "    InitialState = State(All_Blocks)\n",
        "    CurrentState = InitialState\n",
        "    for i in range(50):\n",
        "        move = rd.choice(CurrentState.GetNextMoves())\n",
        "        CurrentState = CurrentState.NextStates(move)\n",
        "    return CurrentState\n"
      ]
    },
    {
      "cell_type": "code",
      "execution_count": null,
      "metadata": {
        "colab": {
          "background_save": true
        },
        "id": "kR4SlPCNAKGY",
        "outputId": "7fdaa351-5c5a-4534-c028-b166e5496d4b"
      },
      "outputs": [
        {
          "name": "stdout",
          "output_type": "stream",
          "text": [
            "\n",
            "Generated Map:\n",
            "[[ 1  0  0  3  3  5]\n",
            " [ 1  0  0  2  4  5]\n",
            " [ 6 14 14  2  4 10]\n",
            " [ 6  0  8  7  9 10]\n",
            " [11 11  8  7  9  0]\n",
            " [12 12  8  0 13 13]]\n"
          ]
        }
      ],
      "source": [
        "index = 1\n",
        "AdjacentStates = {}\n",
        "path = []\n",
        "\n",
        "InitState = map_randomizer(Tag)\n",
        "print ('\\nGenerated Map:')\n",
        "print(InitState.Display())\n"
      ]
    },
    {
      "cell_type": "markdown",
      "metadata": {
        "id": "oP1vuo4VpOPm"
      },
      "source": [
        "###Randomizer test with Breadth-first search: result"
      ]
    },
    {
      "cell_type": "code",
      "execution_count": null,
      "metadata": {
        "colab": {
          "background_save": true
        },
        "id": "n7_OoqB-mVUg",
        "outputId": "f0de00e6-3aed-40ea-829c-e5e04a3302bb"
      },
      "outputs": [
        {
          "name": "stdout",
          "output_type": "stream",
          "text": [
            "Test: 1     Number of steps: 2\n",
            "Test: 2     Number of steps: 2\n",
            "Test: 3     Number of steps: 4\n",
            "Test: 4     Number of steps: 2\n",
            "Test: 5     Number of steps: 5\n",
            "Test: 6     Number of steps: 2\n",
            "Test: 7     Number of steps: 4\n",
            "Test: 8     Number of steps: 2\n",
            "Test: 9     Number of steps: 3\n"
          ]
        }
      ],
      "source": [
        "for x in range (1,10):\n",
        "  InitState = map_randomizer(Tag)\n",
        "  index = 1\n",
        "  AdjacentStates = {}\n",
        "  path = []\n",
        "  FinishNode = BFS(InitState)\n",
        "  if FinishNode == 'Already goal':\n",
        "    print('Test: %d     Goal reached already' %x)\n",
        "\n",
        "  elif FinishNode != 'Failure':\n",
        "      Trace()\n",
        "      print('Test: %d     Number of steps: %d' %(x, len(path)))\n",
        "  else:\n",
        "      print('Test: %d     No ways to escape!' %x)"
      ]
    }
  ],
  "metadata": {
    "colab": {
      "collapsed_sections": [],
      "name": "Unblock_Me.ipynb",
      "provenance": []
    },
    "kernelspec": {
      "display_name": "Python 3",
      "name": "python3"
    },
    "language_info": {
      "name": "python"
    }
  },
  "nbformat": 4,
  "nbformat_minor": 0
}